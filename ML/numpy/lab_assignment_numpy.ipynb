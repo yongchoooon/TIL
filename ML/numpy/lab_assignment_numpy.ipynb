{
 "cells": [
  {
   "cell_type": "markdown",
   "metadata": {},
   "source": [
    "# Lab Assignment - Numpy in a nutshell"
   ]
  },
  {
   "cell_type": "markdown",
   "metadata": {},
   "source": [
    "Copyright 2018 © document created by [teamLab.gachon@gmail.com](teamLab.gachon@gmail.com)"
   ]
  },
  {
   "cell_type": "markdown",
   "metadata": {},
   "source": [
    "URL : [GitHub/Teamlab](https://github.com/TeamLab/machine_learning_from_scratch_with_python/tree/master/lab_asssigment/1_lab_numpy)"
   ]
  },
  {
   "cell_type": "code",
   "execution_count": 1,
   "metadata": {},
   "outputs": [],
   "source": [
    "import numpy as np"
   ]
  },
  {
   "cell_type": "markdown",
   "metadata": {},
   "source": [
    "* **Q1 : n_size_ndarray_creation** "
   ]
  },
  {
   "cell_type": "code",
   "execution_count": 28,
   "metadata": {},
   "outputs": [],
   "source": [
    "def n_size_ndarray_creation(n, dtype=int):\n",
    "    X = np.arange(n**2).reshape(n,n).astype(dtype)\n",
    "    return X"
   ]
  },
  {
   "cell_type": "code",
   "execution_count": 29,
   "metadata": {},
   "outputs": [
    {
     "data": {
      "text/plain": [
       "array([[ 0.,  1.,  2.,  3.,  4.],\n",
       "       [ 5.,  6.,  7.,  8.,  9.],\n",
       "       [10., 11., 12., 13., 14.],\n",
       "       [15., 16., 17., 18., 19.],\n",
       "       [20., 21., 22., 23., 24.]])"
      ]
     },
     "execution_count": 29,
     "metadata": {},
     "output_type": "execute_result"
    }
   ],
   "source": [
    "n_size_ndarray_creation(5, dtype=float)"
   ]
  },
  {
   "cell_type": "markdown",
   "metadata": {},
   "source": [
    "* **Q2 : zero_or_one_or_empty_ndarray** "
   ]
  },
  {
   "cell_type": "code",
   "execution_count": 36,
   "metadata": {},
   "outputs": [],
   "source": [
    "def zero_or_one_or_empty_ndarray(shape, type=0, dtype=int):\n",
    "    if type == 0:\n",
    "        X = np.zeros(list(shape)).astype(dtype)\n",
    "    elif type == 1:\n",
    "        X = np.ones(list(shape)).astype(dtype)\n",
    "    elif type == 99:\n",
    "        X = np.empty(list(shape)).astype(dtype)\n",
    "    \n",
    "    return X"
   ]
  },
  {
   "cell_type": "code",
   "execution_count": 42,
   "metadata": {},
   "outputs": [
    {
     "name": "stdout",
     "output_type": "stream",
     "text": [
      "[[0. 0. 0. 0.]\n",
      " [0. 0. 0. 0.]\n",
      " [0. 0. 0. 0.]]\n",
      "[[1 1 1 1 1]\n",
      " [1 1 1 1 1]]\n",
      "[['0.0' '0.0' '0.0']\n",
      " ['0.0' '0.0' '9.01e-321']\n",
      " ['8.456034395232316e-307' '4.450460074794833e-307' '2.376670579584e-312']]\n"
     ]
    }
   ],
   "source": [
    "print(zero_or_one_or_empty_ndarray((3,4), type=0, dtype=float))\n",
    "print(zero_or_one_or_empty_ndarray((2,5), type=1, dtype=int))\n",
    "print(zero_or_one_or_empty_ndarray((3,3), type=99, dtype=str))\n"
   ]
  },
  {
   "cell_type": "markdown",
   "metadata": {},
   "source": [
    "* **Q3 : change_shape_of_ndarray** "
   ]
  },
  {
   "cell_type": "code",
   "execution_count": 52,
   "metadata": {},
   "outputs": [],
   "source": [
    "def change_shape_of_ndarray(X, n_row):\n",
    "    if n_row == 1:\n",
    "        result = X.flatten()\n",
    "    else:\n",
    "        result = X.reshape(n_row,-1)\n",
    "\n",
    "    return result"
   ]
  },
  {
   "cell_type": "code",
   "execution_count": 55,
   "metadata": {},
   "outputs": [
    {
     "data": {
      "text/plain": [
       "(array([1, 1, 1, 1, 1, 1, 1, 1, 1, 1, 1, 1, 1, 1, 1, 1]),\n",
       " array([[1, 1, 1, 1],\n",
       "        [1, 1, 1, 1],\n",
       "        [1, 1, 1, 1],\n",
       "        [1, 1, 1, 1]]))"
      ]
     },
     "execution_count": 55,
     "metadata": {},
     "output_type": "execute_result"
    }
   ],
   "source": [
    "X = np.ones((4,4), dtype = int)\n",
    "change_shape_of_ndarray(X, 1), change_shape_of_ndarray(X, 4)"
   ]
  },
  {
   "cell_type": "markdown",
   "metadata": {},
   "source": [
    "* **Q4 : concat_ndarray** "
   ]
  },
  {
   "cell_type": "code",
   "execution_count": 115,
   "metadata": {},
   "outputs": [],
   "source": [
    "def concat_ndarray(X_1, X_2, axis):\n",
    "    try:\n",
    "        # X_1, X_2의 입력값은 matrix or vector라는 가정\n",
    "        if X_1.ndim > X_2.ndim:\n",
    "            X_2 = X_2 = X_2.reshape(-1, X_2.size)\n",
    "        elif X_2.ndim > X_1.ndim:\n",
    "            X_1 = X_1= X_1.reshape(-1, X_1.size)\n",
    "            \n",
    "        result = np.concatenate([X_1,X_2],axis=axis)\n",
    "        return result\n",
    "    except:\n",
    "        return False"
   ]
  },
  {
   "cell_type": "code",
   "execution_count": 125,
   "metadata": {},
   "outputs": [
    {
     "name": "stdout",
     "output_type": "stream",
     "text": [
      "[[1 2]\n",
      " [3 4]\n",
      " [5 6]]\n",
      "False\n",
      "[1 2 5 6 7]\n",
      "False\n"
     ]
    }
   ],
   "source": [
    "a = np.array([[1,2],[3,4]])\n",
    "b = np.array([5,6])\n",
    "\n",
    "print(concat_ndarray(a,b,0))\n",
    "print(concat_ndarray(a,b,1))\n",
    "\n",
    "c = np.array([1, 2])\n",
    "d = np.array([5, 6, 7])\n",
    "\n",
    "print(concat_ndarray(c, d, 0))\n",
    "print(concat_ndarray(c, d, 1))"
   ]
  },
  {
   "cell_type": "markdown",
   "metadata": {},
   "source": [
    "* **Q5 : normalize_ndarray** "
   ]
  },
  {
   "cell_type": "code",
   "execution_count": 167,
   "metadata": {},
   "outputs": [],
   "source": [
    "def normalize_ndarray(X, axis=99, dtype=np.float32):\n",
    "    if axis == 99 or X.ndim == 1:\n",
    "        X = (X - np.mean(X))/np.std(X)\n",
    "    elif axis == 0:\n",
    "        X = (X - np.mean(X, axis = 0))/np.std(X, axis = 0)\n",
    "    elif axis == 1:\n",
    "        X = (X - np.mean(X, axis = 1).reshape(-1,1))/np.std(X, axis = 1).reshape(-1,1)\n",
    "\n",
    "    return X\n"
   ]
  },
  {
   "cell_type": "code",
   "execution_count": 172,
   "metadata": {},
   "outputs": [
    {
     "name": "stdout",
     "output_type": "stream",
     "text": [
      "[-1.593255   -1.3035723  -1.0138896  -0.7242068  -0.4345241  -0.14484136\n",
      "  0.14484136  0.4345241   0.7242068   1.0138896   1.3035723   1.593255  ]\n",
      "[[-1.593255   -1.3035723 ]\n",
      " [-1.0138896  -0.7242068 ]\n",
      " [-0.4345241  -0.14484136]\n",
      " [ 0.14484136  0.4345241 ]\n",
      " [ 0.7242068   1.0138896 ]\n",
      " [ 1.3035723   1.593255  ]]\n",
      "[[-1.  1.]\n",
      " [-1.  1.]\n",
      " [-1.  1.]\n",
      " [-1.  1.]\n",
      " [-1.  1.]\n",
      " [-1.  1.]]\n",
      "[[-1.46385 -1.46385]\n",
      " [-0.87831 -0.87831]\n",
      " [-0.29277 -0.29277]\n",
      " [ 0.29277  0.29277]\n",
      " [ 0.87831  0.87831]\n",
      " [ 1.46385  1.46385]]\n"
     ]
    }
   ],
   "source": [
    "a = np.arange(12, dtype=np.float32)\n",
    "print(normalize_ndarray(a))\n",
    "\n",
    "b = np.arange(12, dtype = np.float32).reshape(6,2)\n",
    "print(normalize_ndarray(b))\n",
    "print(normalize_ndarray(b,1))\n",
    "print(normalize_ndarray(b,0))"
   ]
  },
  {
   "cell_type": "markdown",
   "metadata": {},
   "source": [
    "* **Q6 : save_ndarray** "
   ]
  },
  {
   "cell_type": "code",
   "execution_count": 181,
   "metadata": {},
   "outputs": [],
   "source": [
    "def save_ndarray(X, filename=\"test.npy\"):\n",
    "    f = open(\"./\" + filename, 'w')\n",
    "    f.write(str(X))\n",
    "    f.close()"
   ]
  },
  {
   "cell_type": "code",
   "execution_count": 183,
   "metadata": {},
   "outputs": [],
   "source": [
    "X = np.arange(32, dtype = np.float32).reshape(4,-1)\n",
    "save_ndarray(X, 'test.npy')"
   ]
  },
  {
   "cell_type": "markdown",
   "metadata": {},
   "source": [
    "* **Q7 : boolean_index** "
   ]
  },
  {
   "cell_type": "code",
   "execution_count": 184,
   "metadata": {},
   "outputs": [],
   "source": [
    "def boolean_index(X, condition):\n",
    "    result = np.where(eval(str(\"X\") + condition))\n",
    "    return result"
   ]
  },
  {
   "cell_type": "code",
   "execution_count": 190,
   "metadata": {},
   "outputs": [
    {
     "name": "stdout",
     "output_type": "stream",
     "text": [
      "(array([0], dtype=int64), array([3], dtype=int64))\n",
      "(array([ 7,  8,  9, 10, 11, 12, 13, 14, 15, 16, 17, 18, 19, 20, 21, 22, 23,\n",
      "       24, 25, 26, 27, 28, 29, 30, 31], dtype=int64),)\n"
     ]
    }
   ],
   "source": [
    "a = np.arange(32, dtype=np.float32).reshape(4,-1)\n",
    "print(boolean_index(a, '== 3'))\n",
    "\n",
    "b = np.arange(32, dtype = np.float32)\n",
    "print(boolean_index(b, \"> 6\"))"
   ]
  },
  {
   "cell_type": "markdown",
   "metadata": {},
   "source": [
    "* **Q8 : find_nearest_value** "
   ]
  },
  {
   "cell_type": "code",
   "execution_count": 223,
   "metadata": {},
   "outputs": [],
   "source": [
    "def find_nearest_value(X, target_value):\n",
    "    return X[np.argmin(np.abs(X - target_value))]"
   ]
  },
  {
   "cell_type": "code",
   "execution_count": 224,
   "metadata": {},
   "outputs": [
    {
     "data": {
      "text/plain": [
       "0.3072654992971422"
      ]
     },
     "execution_count": 224,
     "metadata": {},
     "output_type": "execute_result"
    }
   ],
   "source": [
    "X = np.random.uniform(0,1,100)\n",
    "target_value = 0.3\n",
    "find_nearest_value(X, target_value)"
   ]
  },
  {
   "cell_type": "markdown",
   "metadata": {},
   "source": [
    "* **Q9 : get_n_largest_values** "
   ]
  },
  {
   "cell_type": "code",
   "execution_count": 232,
   "metadata": {},
   "outputs": [],
   "source": [
    "def get_n_largest_values(X, n):\n",
    "    result = X[X.argsort()[::-1][:n]]\n",
    "    return result"
   ]
  },
  {
   "cell_type": "code",
   "execution_count": 233,
   "metadata": {},
   "outputs": [
    {
     "data": {
      "text/plain": [
       "array([0.99432464, 0.9818719 , 0.97703266])"
      ]
     },
     "execution_count": 233,
     "metadata": {},
     "output_type": "execute_result"
    }
   ],
   "source": [
    "X = np.random.uniform(0,1,100)\n",
    "get_n_largest_values(X, 3)"
   ]
  }
 ],
 "metadata": {
  "interpreter": {
   "hash": "6f64cbf213417c81574706ce5c890b498fe793337df50d850298e0e999d57f7d"
  },
  "kernelspec": {
   "display_name": "Python 3.9.7 ('da')",
   "language": "python",
   "name": "python3"
  },
  "language_info": {
   "codemirror_mode": {
    "name": "ipython",
    "version": 3
   },
   "file_extension": ".py",
   "mimetype": "text/x-python",
   "name": "python",
   "nbconvert_exporter": "python",
   "pygments_lexer": "ipython3",
   "version": "3.9.7"
  },
  "orig_nbformat": 4
 },
 "nbformat": 4,
 "nbformat_minor": 2
}
