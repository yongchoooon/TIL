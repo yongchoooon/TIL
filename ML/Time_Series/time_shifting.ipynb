{
 "cells": [
  {
   "cell_type": "markdown",
   "metadata": {},
   "source": [
    "## Time Shifting"
   ]
  },
  {
   "cell_type": "markdown",
   "metadata": {},
   "source": [
    "* 시간의 차(Time Lag) 분석 필요\n",
    "  * ex) 30일 전에 비해 주가는 상승세인가?\n",
    "* Pandas 내 Time shifting 기능으로 time window를 기준으로 기간간 차이 분석\n",
    "  * 여기서 time window는 resample에서 freq과 비슷함"
   ]
  },
  {
   "cell_type": "code",
   "execution_count": 1,
   "metadata": {},
   "outputs": [],
   "source": [
    "import pandas as pd\n",
    "import os"
   ]
  },
  {
   "cell_type": "code",
   "execution_count": 3,
   "metadata": {},
   "outputs": [
    {
     "data": {
      "text/html": [
       "<div>\n",
       "<style scoped>\n",
       "    .dataframe tbody tr th:only-of-type {\n",
       "        vertical-align: middle;\n",
       "    }\n",
       "\n",
       "    .dataframe tbody tr th {\n",
       "        vertical-align: top;\n",
       "    }\n",
       "\n",
       "    .dataframe thead th {\n",
       "        text-align: right;\n",
       "    }\n",
       "</style>\n",
       "<table border=\"1\" class=\"dataframe\">\n",
       "  <thead>\n",
       "    <tr style=\"text-align: right;\">\n",
       "      <th></th>\n",
       "      <th>season</th>\n",
       "      <th>holiday</th>\n",
       "      <th>workingday</th>\n",
       "      <th>weather</th>\n",
       "      <th>temp</th>\n",
       "      <th>atemp</th>\n",
       "      <th>humidity</th>\n",
       "      <th>windspeed</th>\n",
       "      <th>casual</th>\n",
       "      <th>registered</th>\n",
       "      <th>count</th>\n",
       "    </tr>\n",
       "    <tr>\n",
       "      <th>datetime</th>\n",
       "      <th></th>\n",
       "      <th></th>\n",
       "      <th></th>\n",
       "      <th></th>\n",
       "      <th></th>\n",
       "      <th></th>\n",
       "      <th></th>\n",
       "      <th></th>\n",
       "      <th></th>\n",
       "      <th></th>\n",
       "      <th></th>\n",
       "    </tr>\n",
       "  </thead>\n",
       "  <tbody>\n",
       "    <tr>\n",
       "      <th>2011-01-01 00:00:00</th>\n",
       "      <td>1</td>\n",
       "      <td>0</td>\n",
       "      <td>0</td>\n",
       "      <td>1</td>\n",
       "      <td>9.84</td>\n",
       "      <td>14.395</td>\n",
       "      <td>81</td>\n",
       "      <td>0.0</td>\n",
       "      <td>3</td>\n",
       "      <td>13</td>\n",
       "      <td>16</td>\n",
       "    </tr>\n",
       "    <tr>\n",
       "      <th>2011-01-01 01:00:00</th>\n",
       "      <td>1</td>\n",
       "      <td>0</td>\n",
       "      <td>0</td>\n",
       "      <td>1</td>\n",
       "      <td>9.02</td>\n",
       "      <td>13.635</td>\n",
       "      <td>80</td>\n",
       "      <td>0.0</td>\n",
       "      <td>8</td>\n",
       "      <td>32</td>\n",
       "      <td>40</td>\n",
       "    </tr>\n",
       "    <tr>\n",
       "      <th>2011-01-01 02:00:00</th>\n",
       "      <td>1</td>\n",
       "      <td>0</td>\n",
       "      <td>0</td>\n",
       "      <td>1</td>\n",
       "      <td>9.02</td>\n",
       "      <td>13.635</td>\n",
       "      <td>80</td>\n",
       "      <td>0.0</td>\n",
       "      <td>5</td>\n",
       "      <td>27</td>\n",
       "      <td>32</td>\n",
       "    </tr>\n",
       "    <tr>\n",
       "      <th>2011-01-01 03:00:00</th>\n",
       "      <td>1</td>\n",
       "      <td>0</td>\n",
       "      <td>0</td>\n",
       "      <td>1</td>\n",
       "      <td>9.84</td>\n",
       "      <td>14.395</td>\n",
       "      <td>75</td>\n",
       "      <td>0.0</td>\n",
       "      <td>3</td>\n",
       "      <td>10</td>\n",
       "      <td>13</td>\n",
       "    </tr>\n",
       "    <tr>\n",
       "      <th>2011-01-01 04:00:00</th>\n",
       "      <td>1</td>\n",
       "      <td>0</td>\n",
       "      <td>0</td>\n",
       "      <td>1</td>\n",
       "      <td>9.84</td>\n",
       "      <td>14.395</td>\n",
       "      <td>75</td>\n",
       "      <td>0.0</td>\n",
       "      <td>0</td>\n",
       "      <td>1</td>\n",
       "      <td>1</td>\n",
       "    </tr>\n",
       "  </tbody>\n",
       "</table>\n",
       "</div>"
      ],
      "text/plain": [
       "                     season  holiday  workingday  weather  temp   atemp  \\\n",
       "datetime                                                                  \n",
       "2011-01-01 00:00:00       1        0           0        1  9.84  14.395   \n",
       "2011-01-01 01:00:00       1        0           0        1  9.02  13.635   \n",
       "2011-01-01 02:00:00       1        0           0        1  9.02  13.635   \n",
       "2011-01-01 03:00:00       1        0           0        1  9.84  14.395   \n",
       "2011-01-01 04:00:00       1        0           0        1  9.84  14.395   \n",
       "\n",
       "                     humidity  windspeed  casual  registered  count  \n",
       "datetime                                                             \n",
       "2011-01-01 00:00:00        81        0.0       3          13     16  \n",
       "2011-01-01 01:00:00        80        0.0       8          32     40  \n",
       "2011-01-01 02:00:00        80        0.0       5          27     32  \n",
       "2011-01-01 03:00:00        75        0.0       3          10     13  \n",
       "2011-01-01 04:00:00        75        0.0       0           1      1  "
      ]
     },
     "execution_count": 3,
     "metadata": {},
     "output_type": "execute_result"
    }
   ],
   "source": [
    "DATA_DIR = \"bike_sharing_demand\"\n",
    "TRAIN_PATH = os.path.join(DATA_DIR, \"train.csv\")\n",
    "\n",
    "df = pd.read_csv(TRAIN_PATH, parse_dates = ['datetime'])\n",
    "df.set_index(\"datetime\", inplace = True)\n",
    "df.head()"
   ]
  },
  {
   "cell_type": "code",
   "execution_count": 5,
   "metadata": {},
   "outputs": [
    {
     "data": {
      "text/plain": [
       "datetime\n",
       "2011-01-31    54.645012\n",
       "2011-02-28    73.641256\n",
       "2011-03-31    86.849776\n",
       "Freq: M, Name: count, dtype: float64"
      ]
     },
     "execution_count": 5,
     "metadata": {},
     "output_type": "execute_result"
    }
   ],
   "source": [
    "monthly_avg = df[\"count\"].resample(\"M\").mean()\n",
    "monthly_avg.head(3)"
   ]
  },
  {
   "cell_type": "markdown",
   "metadata": {},
   "source": [
    "* shifting은 periods만큼 밀리는 것을 의미함."
   ]
  },
  {
   "cell_type": "code",
   "execution_count": 6,
   "metadata": {},
   "outputs": [
    {
     "data": {
      "text/plain": [
       "datetime\n",
       "2011-01-31      0.000000\n",
       "2011-02-28      0.000000\n",
       "2011-03-31     54.645012\n",
       "2011-04-30     73.641256\n",
       "2011-05-31     86.849776\n",
       "2011-06-30    111.026374\n",
       "2011-07-31    174.809211\n",
       "2011-08-31    196.877193\n",
       "2011-09-30    203.614035\n",
       "2011-10-31    182.666667\n",
       "2011-11-30    174.622517\n",
       "2011-12-31    174.773626\n",
       "2012-01-31    155.458333\n",
       "2012-02-29    134.173246\n",
       "2012-03-31    124.353201\n",
       "2012-04-30    145.646154\n",
       "2012-05-31    208.276923\n",
       "2012-06-30    257.455947\n",
       "2012-07-31    264.109649\n",
       "2012-08-31    287.186404\n",
       "2012-09-30    267.037281\n",
       "2012-10-31    285.570175\n",
       "2012-11-30    292.598684\n",
       "2012-12-31    280.508772\n",
       "Freq: M, Name: count, dtype: float64"
      ]
     },
     "execution_count": 6,
     "metadata": {},
     "output_type": "execute_result"
    }
   ],
   "source": [
    "monthly_avg.shift(periods = 2, fill_value = 0)"
   ]
  },
  {
   "cell_type": "markdown",
   "metadata": {},
   "source": [
    "* 실무에서 사용할 때는 한 단위의 periods씩 shifting해서 df로 만들어서 분석"
   ]
  },
  {
   "cell_type": "code",
   "execution_count": 9,
   "metadata": {},
   "outputs": [
    {
     "data": {
      "text/html": [
       "<div>\n",
       "<style scoped>\n",
       "    .dataframe tbody tr th:only-of-type {\n",
       "        vertical-align: middle;\n",
       "    }\n",
       "\n",
       "    .dataframe tbody tr th {\n",
       "        vertical-align: top;\n",
       "    }\n",
       "\n",
       "    .dataframe thead th {\n",
       "        text-align: right;\n",
       "    }\n",
       "</style>\n",
       "<table border=\"1\" class=\"dataframe\">\n",
       "  <thead>\n",
       "    <tr style=\"text-align: right;\">\n",
       "      <th></th>\n",
       "      <th>count</th>\n",
       "      <th>1_month_shift</th>\n",
       "      <th>2_month_shift</th>\n",
       "      <th>3_month_shift</th>\n",
       "      <th>4_month_shift</th>\n",
       "      <th>5_month_shift</th>\n",
       "    </tr>\n",
       "    <tr>\n",
       "      <th>datetime</th>\n",
       "      <th></th>\n",
       "      <th></th>\n",
       "      <th></th>\n",
       "      <th></th>\n",
       "      <th></th>\n",
       "      <th></th>\n",
       "    </tr>\n",
       "  </thead>\n",
       "  <tbody>\n",
       "    <tr>\n",
       "      <th>2011-01-31</th>\n",
       "      <td>54.645012</td>\n",
       "      <td>0.000000</td>\n",
       "      <td>0.000000</td>\n",
       "      <td>0.000000</td>\n",
       "      <td>0.000000</td>\n",
       "      <td>0.000000</td>\n",
       "    </tr>\n",
       "    <tr>\n",
       "      <th>2011-02-28</th>\n",
       "      <td>73.641256</td>\n",
       "      <td>54.645012</td>\n",
       "      <td>0.000000</td>\n",
       "      <td>0.000000</td>\n",
       "      <td>0.000000</td>\n",
       "      <td>0.000000</td>\n",
       "    </tr>\n",
       "    <tr>\n",
       "      <th>2011-03-31</th>\n",
       "      <td>86.849776</td>\n",
       "      <td>73.641256</td>\n",
       "      <td>54.645012</td>\n",
       "      <td>0.000000</td>\n",
       "      <td>0.000000</td>\n",
       "      <td>0.000000</td>\n",
       "    </tr>\n",
       "    <tr>\n",
       "      <th>2011-04-30</th>\n",
       "      <td>111.026374</td>\n",
       "      <td>86.849776</td>\n",
       "      <td>73.641256</td>\n",
       "      <td>54.645012</td>\n",
       "      <td>0.000000</td>\n",
       "      <td>0.000000</td>\n",
       "    </tr>\n",
       "    <tr>\n",
       "      <th>2011-05-31</th>\n",
       "      <td>174.809211</td>\n",
       "      <td>111.026374</td>\n",
       "      <td>86.849776</td>\n",
       "      <td>73.641256</td>\n",
       "      <td>54.645012</td>\n",
       "      <td>0.000000</td>\n",
       "    </tr>\n",
       "    <tr>\n",
       "      <th>2011-06-30</th>\n",
       "      <td>196.877193</td>\n",
       "      <td>174.809211</td>\n",
       "      <td>111.026374</td>\n",
       "      <td>86.849776</td>\n",
       "      <td>73.641256</td>\n",
       "      <td>54.645012</td>\n",
       "    </tr>\n",
       "    <tr>\n",
       "      <th>2011-07-31</th>\n",
       "      <td>203.614035</td>\n",
       "      <td>196.877193</td>\n",
       "      <td>174.809211</td>\n",
       "      <td>111.026374</td>\n",
       "      <td>86.849776</td>\n",
       "      <td>73.641256</td>\n",
       "    </tr>\n",
       "    <tr>\n",
       "      <th>2011-08-31</th>\n",
       "      <td>182.666667</td>\n",
       "      <td>203.614035</td>\n",
       "      <td>196.877193</td>\n",
       "      <td>174.809211</td>\n",
       "      <td>111.026374</td>\n",
       "      <td>86.849776</td>\n",
       "    </tr>\n",
       "    <tr>\n",
       "      <th>2011-09-30</th>\n",
       "      <td>174.622517</td>\n",
       "      <td>182.666667</td>\n",
       "      <td>203.614035</td>\n",
       "      <td>196.877193</td>\n",
       "      <td>174.809211</td>\n",
       "      <td>111.026374</td>\n",
       "    </tr>\n",
       "    <tr>\n",
       "      <th>2011-10-31</th>\n",
       "      <td>174.773626</td>\n",
       "      <td>174.622517</td>\n",
       "      <td>182.666667</td>\n",
       "      <td>203.614035</td>\n",
       "      <td>196.877193</td>\n",
       "      <td>174.809211</td>\n",
       "    </tr>\n",
       "    <tr>\n",
       "      <th>2011-11-30</th>\n",
       "      <td>155.458333</td>\n",
       "      <td>174.773626</td>\n",
       "      <td>174.622517</td>\n",
       "      <td>182.666667</td>\n",
       "      <td>203.614035</td>\n",
       "      <td>196.877193</td>\n",
       "    </tr>\n",
       "    <tr>\n",
       "      <th>2011-12-31</th>\n",
       "      <td>134.173246</td>\n",
       "      <td>155.458333</td>\n",
       "      <td>174.773626</td>\n",
       "      <td>174.622517</td>\n",
       "      <td>182.666667</td>\n",
       "      <td>203.614035</td>\n",
       "    </tr>\n",
       "    <tr>\n",
       "      <th>2012-01-31</th>\n",
       "      <td>124.353201</td>\n",
       "      <td>134.173246</td>\n",
       "      <td>155.458333</td>\n",
       "      <td>174.773626</td>\n",
       "      <td>174.622517</td>\n",
       "      <td>182.666667</td>\n",
       "    </tr>\n",
       "    <tr>\n",
       "      <th>2012-02-29</th>\n",
       "      <td>145.646154</td>\n",
       "      <td>124.353201</td>\n",
       "      <td>134.173246</td>\n",
       "      <td>155.458333</td>\n",
       "      <td>174.773626</td>\n",
       "      <td>174.622517</td>\n",
       "    </tr>\n",
       "    <tr>\n",
       "      <th>2012-03-31</th>\n",
       "      <td>208.276923</td>\n",
       "      <td>145.646154</td>\n",
       "      <td>124.353201</td>\n",
       "      <td>134.173246</td>\n",
       "      <td>155.458333</td>\n",
       "      <td>174.773626</td>\n",
       "    </tr>\n",
       "    <tr>\n",
       "      <th>2012-04-30</th>\n",
       "      <td>257.455947</td>\n",
       "      <td>208.276923</td>\n",
       "      <td>145.646154</td>\n",
       "      <td>124.353201</td>\n",
       "      <td>134.173246</td>\n",
       "      <td>155.458333</td>\n",
       "    </tr>\n",
       "    <tr>\n",
       "      <th>2012-05-31</th>\n",
       "      <td>264.109649</td>\n",
       "      <td>257.455947</td>\n",
       "      <td>208.276923</td>\n",
       "      <td>145.646154</td>\n",
       "      <td>124.353201</td>\n",
       "      <td>134.173246</td>\n",
       "    </tr>\n",
       "    <tr>\n",
       "      <th>2012-06-30</th>\n",
       "      <td>287.186404</td>\n",
       "      <td>264.109649</td>\n",
       "      <td>257.455947</td>\n",
       "      <td>208.276923</td>\n",
       "      <td>145.646154</td>\n",
       "      <td>124.353201</td>\n",
       "    </tr>\n",
       "    <tr>\n",
       "      <th>2012-07-31</th>\n",
       "      <td>267.037281</td>\n",
       "      <td>287.186404</td>\n",
       "      <td>264.109649</td>\n",
       "      <td>257.455947</td>\n",
       "      <td>208.276923</td>\n",
       "      <td>145.646154</td>\n",
       "    </tr>\n",
       "    <tr>\n",
       "      <th>2012-08-31</th>\n",
       "      <td>285.570175</td>\n",
       "      <td>267.037281</td>\n",
       "      <td>287.186404</td>\n",
       "      <td>264.109649</td>\n",
       "      <td>257.455947</td>\n",
       "      <td>208.276923</td>\n",
       "    </tr>\n",
       "    <tr>\n",
       "      <th>2012-09-30</th>\n",
       "      <td>292.598684</td>\n",
       "      <td>285.570175</td>\n",
       "      <td>267.037281</td>\n",
       "      <td>287.186404</td>\n",
       "      <td>264.109649</td>\n",
       "      <td>257.455947</td>\n",
       "    </tr>\n",
       "    <tr>\n",
       "      <th>2012-10-31</th>\n",
       "      <td>280.508772</td>\n",
       "      <td>292.598684</td>\n",
       "      <td>285.570175</td>\n",
       "      <td>267.037281</td>\n",
       "      <td>287.186404</td>\n",
       "      <td>264.109649</td>\n",
       "    </tr>\n",
       "    <tr>\n",
       "      <th>2012-11-30</th>\n",
       "      <td>231.980220</td>\n",
       "      <td>280.508772</td>\n",
       "      <td>292.598684</td>\n",
       "      <td>285.570175</td>\n",
       "      <td>267.037281</td>\n",
       "      <td>287.186404</td>\n",
       "    </tr>\n",
       "    <tr>\n",
       "      <th>2012-12-31</th>\n",
       "      <td>217.054825</td>\n",
       "      <td>231.980220</td>\n",
       "      <td>280.508772</td>\n",
       "      <td>292.598684</td>\n",
       "      <td>285.570175</td>\n",
       "      <td>267.037281</td>\n",
       "    </tr>\n",
       "  </tbody>\n",
       "</table>\n",
       "</div>"
      ],
      "text/plain": [
       "                 count  1_month_shift  2_month_shift  3_month_shift  \\\n",
       "datetime                                                              \n",
       "2011-01-31   54.645012       0.000000       0.000000       0.000000   \n",
       "2011-02-28   73.641256      54.645012       0.000000       0.000000   \n",
       "2011-03-31   86.849776      73.641256      54.645012       0.000000   \n",
       "2011-04-30  111.026374      86.849776      73.641256      54.645012   \n",
       "2011-05-31  174.809211     111.026374      86.849776      73.641256   \n",
       "2011-06-30  196.877193     174.809211     111.026374      86.849776   \n",
       "2011-07-31  203.614035     196.877193     174.809211     111.026374   \n",
       "2011-08-31  182.666667     203.614035     196.877193     174.809211   \n",
       "2011-09-30  174.622517     182.666667     203.614035     196.877193   \n",
       "2011-10-31  174.773626     174.622517     182.666667     203.614035   \n",
       "2011-11-30  155.458333     174.773626     174.622517     182.666667   \n",
       "2011-12-31  134.173246     155.458333     174.773626     174.622517   \n",
       "2012-01-31  124.353201     134.173246     155.458333     174.773626   \n",
       "2012-02-29  145.646154     124.353201     134.173246     155.458333   \n",
       "2012-03-31  208.276923     145.646154     124.353201     134.173246   \n",
       "2012-04-30  257.455947     208.276923     145.646154     124.353201   \n",
       "2012-05-31  264.109649     257.455947     208.276923     145.646154   \n",
       "2012-06-30  287.186404     264.109649     257.455947     208.276923   \n",
       "2012-07-31  267.037281     287.186404     264.109649     257.455947   \n",
       "2012-08-31  285.570175     267.037281     287.186404     264.109649   \n",
       "2012-09-30  292.598684     285.570175     267.037281     287.186404   \n",
       "2012-10-31  280.508772     292.598684     285.570175     267.037281   \n",
       "2012-11-30  231.980220     280.508772     292.598684     285.570175   \n",
       "2012-12-31  217.054825     231.980220     280.508772     292.598684   \n",
       "\n",
       "            4_month_shift  5_month_shift  \n",
       "datetime                                  \n",
       "2011-01-31       0.000000       0.000000  \n",
       "2011-02-28       0.000000       0.000000  \n",
       "2011-03-31       0.000000       0.000000  \n",
       "2011-04-30       0.000000       0.000000  \n",
       "2011-05-31      54.645012       0.000000  \n",
       "2011-06-30      73.641256      54.645012  \n",
       "2011-07-31      86.849776      73.641256  \n",
       "2011-08-31     111.026374      86.849776  \n",
       "2011-09-30     174.809211     111.026374  \n",
       "2011-10-31     196.877193     174.809211  \n",
       "2011-11-30     203.614035     196.877193  \n",
       "2011-12-31     182.666667     203.614035  \n",
       "2012-01-31     174.622517     182.666667  \n",
       "2012-02-29     174.773626     174.622517  \n",
       "2012-03-31     155.458333     174.773626  \n",
       "2012-04-30     134.173246     155.458333  \n",
       "2012-05-31     124.353201     134.173246  \n",
       "2012-06-30     145.646154     124.353201  \n",
       "2012-07-31     208.276923     145.646154  \n",
       "2012-08-31     257.455947     208.276923  \n",
       "2012-09-30     264.109649     257.455947  \n",
       "2012-10-31     287.186404     264.109649  \n",
       "2012-11-30     267.037281     287.186404  \n",
       "2012-12-31     285.570175     267.037281  "
      ]
     },
     "execution_count": 9,
     "metadata": {},
     "output_type": "execute_result"
    }
   ],
   "source": [
    "monthly_avg = df[\"count\"].resample(\"M\").mean()\n",
    "result = []\n",
    "result.append(monthly_avg)\n",
    "\n",
    "for period in range(1, 6):\n",
    "    temp_avg = monthly_avg.shift(periods = period, fill_value = 0)\n",
    "    temp_avg = temp_avg.rename(\"{}_month_shift\".format(period))\n",
    "    result.append(temp_avg)\n",
    "\n",
    "pd.concat(result, axis = 1)"
   ]
  },
  {
   "cell_type": "markdown",
   "metadata": {},
   "source": [
    "## Moving average"
   ]
  },
  {
   "cell_type": "markdown",
   "metadata": {},
   "source": [
    "* 시계열 데이터는 노이즈 발생\n",
    "  * 노이즈를 줄이면서 추세보기, 이동평균법"
   ]
  },
  {
   "cell_type": "code",
   "execution_count": 24,
   "metadata": {},
   "outputs": [
    {
     "data": {
      "text/plain": [
       "<AxesSubplot:xlabel='datetime'>"
      ]
     },
     "execution_count": 24,
     "metadata": {},
     "output_type": "execute_result"
    },
    {
     "data": {
      "image/png": "[encoded data removed]",
      "text/plain": [
       "<Figure size 432x288 with 1 Axes>"
      ]
     },
     "metadata": {
      "needs_background": "light"
     },
     "output_type": "display_data"
    }
   ],
   "source": [
    "# 일별 자전거 수요량의 평균\n",
    "day_avg = df[\"count\"].resample(\"D\").mean()\n",
    "day_avg.plot()"
   ]
  },
  {
   "cell_type": "markdown",
   "metadata": {},
   "source": [
    "* 위의 `day_avg`는 NaN 값이 존재해서 fillna(0)을 해주어야 함."
   ]
  },
  {
   "cell_type": "code",
   "execution_count": 25,
   "metadata": {},
   "outputs": [
    {
     "data": {
      "text/plain": [
       "<AxesSubplot:xlabel='datetime'>"
      ]
     },
     "execution_count": 25,
     "metadata": {},
     "output_type": "execute_result"
    },
    {
     "data": {
      "image/png": "[encoded data removed]",
      "text/plain": [
       "<Figure size 432x288 with 1 Axes>"
      ]
     },
     "metadata": {
      "needs_background": "light"
     },
     "output_type": "display_data"
    }
   ],
   "source": [
    "day_avg = df[\"count\"].resample(\"D\").mean().fillna(0)\n",
    "day_avg.plot()"
   ]
  },
  {
   "cell_type": "markdown",
   "metadata": {},
   "source": [
    "* NaN값(0으로 대체한 값)을 포함한 추세선"
   ]
  },
  {
   "cell_type": "code",
   "execution_count": 29,
   "metadata": {},
   "outputs": [
    {
     "data": {
      "text/plain": [
       "<AxesSubplot:xlabel='datetime'>"
      ]
     },
     "execution_count": 29,
     "metadata": {},
     "output_type": "execute_result"
    },
    {
     "data": {
      "image/png": "[encoded data removed]",
      "text/plain": [
       "<Figure size 432x288 with 1 Axes>"
      ]
     },
     "metadata": {
      "needs_background": "light"
     },
     "output_type": "display_data"
    }
   ],
   "source": [
    "day_avg.plot()\n",
    "day_avg.rolling(window = 30).mean().fillna(0).plot()"
   ]
  },
  {
   "cell_type": "markdown",
   "metadata": {},
   "source": [
    "## Cumsum (Cumulative sum)"
   ]
  },
  {
   "cell_type": "markdown",
   "metadata": {},
   "source": [
    "* 시계열 데이터를 window마다 합침\n",
    "* rolling(window = 10).sum() 과 다름"
   ]
  },
  {
   "cell_type": "code",
   "execution_count": 35,
   "metadata": {},
   "outputs": [
    {
     "data": {
      "text/html": [
       "<div>\n",
       "<style scoped>\n",
       "    .dataframe tbody tr th:only-of-type {\n",
       "        vertical-align: middle;\n",
       "    }\n",
       "\n",
       "    .dataframe tbody tr th {\n",
       "        vertical-align: top;\n",
       "    }\n",
       "\n",
       "    .dataframe thead th {\n",
       "        text-align: right;\n",
       "    }\n",
       "</style>\n",
       "<table border=\"1\" class=\"dataframe\">\n",
       "  <thead>\n",
       "    <tr style=\"text-align: right;\">\n",
       "      <th></th>\n",
       "      <th>monthly_avg</th>\n",
       "      <th>avg_cumsum</th>\n",
       "    </tr>\n",
       "    <tr>\n",
       "      <th>datetime</th>\n",
       "      <th></th>\n",
       "      <th></th>\n",
       "    </tr>\n",
       "  </thead>\n",
       "  <tbody>\n",
       "    <tr>\n",
       "      <th>2011-01-31</th>\n",
       "      <td>54.645012</td>\n",
       "      <td>54.645012</td>\n",
       "    </tr>\n",
       "    <tr>\n",
       "      <th>2011-02-28</th>\n",
       "      <td>73.641256</td>\n",
       "      <td>128.286267</td>\n",
       "    </tr>\n",
       "    <tr>\n",
       "      <th>2011-03-31</th>\n",
       "      <td>86.849776</td>\n",
       "      <td>215.136043</td>\n",
       "    </tr>\n",
       "    <tr>\n",
       "      <th>2011-04-30</th>\n",
       "      <td>111.026374</td>\n",
       "      <td>326.162417</td>\n",
       "    </tr>\n",
       "    <tr>\n",
       "      <th>2011-05-31</th>\n",
       "      <td>174.809211</td>\n",
       "      <td>500.971627</td>\n",
       "    </tr>\n",
       "    <tr>\n",
       "      <th>2011-06-30</th>\n",
       "      <td>196.877193</td>\n",
       "      <td>697.848820</td>\n",
       "    </tr>\n",
       "    <tr>\n",
       "      <th>2011-07-31</th>\n",
       "      <td>203.614035</td>\n",
       "      <td>901.462855</td>\n",
       "    </tr>\n",
       "    <tr>\n",
       "      <th>2011-08-31</th>\n",
       "      <td>182.666667</td>\n",
       "      <td>1084.129522</td>\n",
       "    </tr>\n",
       "    <tr>\n",
       "      <th>2011-09-30</th>\n",
       "      <td>174.622517</td>\n",
       "      <td>1258.752038</td>\n",
       "    </tr>\n",
       "    <tr>\n",
       "      <th>2011-10-31</th>\n",
       "      <td>174.773626</td>\n",
       "      <td>1433.525665</td>\n",
       "    </tr>\n",
       "    <tr>\n",
       "      <th>2011-11-30</th>\n",
       "      <td>155.458333</td>\n",
       "      <td>1588.983998</td>\n",
       "    </tr>\n",
       "    <tr>\n",
       "      <th>2011-12-31</th>\n",
       "      <td>134.173246</td>\n",
       "      <td>1723.157244</td>\n",
       "    </tr>\n",
       "    <tr>\n",
       "      <th>2012-01-31</th>\n",
       "      <td>124.353201</td>\n",
       "      <td>1847.510445</td>\n",
       "    </tr>\n",
       "    <tr>\n",
       "      <th>2012-02-29</th>\n",
       "      <td>145.646154</td>\n",
       "      <td>1993.156598</td>\n",
       "    </tr>\n",
       "    <tr>\n",
       "      <th>2012-03-31</th>\n",
       "      <td>208.276923</td>\n",
       "      <td>2201.433522</td>\n",
       "    </tr>\n",
       "    <tr>\n",
       "      <th>2012-04-30</th>\n",
       "      <td>257.455947</td>\n",
       "      <td>2458.889469</td>\n",
       "    </tr>\n",
       "    <tr>\n",
       "      <th>2012-05-31</th>\n",
       "      <td>264.109649</td>\n",
       "      <td>2722.999118</td>\n",
       "    </tr>\n",
       "    <tr>\n",
       "      <th>2012-06-30</th>\n",
       "      <td>287.186404</td>\n",
       "      <td>3010.185521</td>\n",
       "    </tr>\n",
       "    <tr>\n",
       "      <th>2012-07-31</th>\n",
       "      <td>267.037281</td>\n",
       "      <td>3277.222802</td>\n",
       "    </tr>\n",
       "    <tr>\n",
       "      <th>2012-08-31</th>\n",
       "      <td>285.570175</td>\n",
       "      <td>3562.792977</td>\n",
       "    </tr>\n",
       "    <tr>\n",
       "      <th>2012-09-30</th>\n",
       "      <td>292.598684</td>\n",
       "      <td>3855.391662</td>\n",
       "    </tr>\n",
       "    <tr>\n",
       "      <th>2012-10-31</th>\n",
       "      <td>280.508772</td>\n",
       "      <td>4135.900434</td>\n",
       "    </tr>\n",
       "    <tr>\n",
       "      <th>2012-11-30</th>\n",
       "      <td>231.980220</td>\n",
       "      <td>4367.880653</td>\n",
       "    </tr>\n",
       "    <tr>\n",
       "      <th>2012-12-31</th>\n",
       "      <td>217.054825</td>\n",
       "      <td>4584.935478</td>\n",
       "    </tr>\n",
       "  </tbody>\n",
       "</table>\n",
       "</div>"
      ],
      "text/plain": [
       "            monthly_avg   avg_cumsum\n",
       "datetime                            \n",
       "2011-01-31    54.645012    54.645012\n",
       "2011-02-28    73.641256   128.286267\n",
       "2011-03-31    86.849776   215.136043\n",
       "2011-04-30   111.026374   326.162417\n",
       "2011-05-31   174.809211   500.971627\n",
       "2011-06-30   196.877193   697.848820\n",
       "2011-07-31   203.614035   901.462855\n",
       "2011-08-31   182.666667  1084.129522\n",
       "2011-09-30   174.622517  1258.752038\n",
       "2011-10-31   174.773626  1433.525665\n",
       "2011-11-30   155.458333  1588.983998\n",
       "2011-12-31   134.173246  1723.157244\n",
       "2012-01-31   124.353201  1847.510445\n",
       "2012-02-29   145.646154  1993.156598\n",
       "2012-03-31   208.276923  2201.433522\n",
       "2012-04-30   257.455947  2458.889469\n",
       "2012-05-31   264.109649  2722.999118\n",
       "2012-06-30   287.186404  3010.185521\n",
       "2012-07-31   267.037281  3277.222802\n",
       "2012-08-31   285.570175  3562.792977\n",
       "2012-09-30   292.598684  3855.391662\n",
       "2012-10-31   280.508772  4135.900434\n",
       "2012-11-30   231.980220  4367.880653\n",
       "2012-12-31   217.054825  4584.935478"
      ]
     },
     "execution_count": 35,
     "metadata": {},
     "output_type": "execute_result"
    }
   ],
   "source": [
    "monthly_avg = df[\"count\"].resample(\"M\").mean()\n",
    "cumsum_avg = df[\"count\"].resample(\"M\").mean().cumsum()\n",
    "monthly_avg = monthly_avg.rename(\"monthly_avg\")\n",
    "cumsum_avg = cumsum_avg.rename(\"avg_cumsum\")\n",
    "\n",
    "df_monthly = pd.concat([monthly_avg, cumsum_avg], axis = 1)\n",
    "df_monthly"
   ]
  },
  {
   "cell_type": "markdown",
   "metadata": {},
   "source": [
    "* `secondary_y = True`: y 보조축 사용"
   ]
  },
  {
   "cell_type": "code",
   "execution_count": 39,
   "metadata": {},
   "outputs": [
    {
     "data": {
      "text/plain": [
       "<AxesSubplot:>"
      ]
     },
     "execution_count": 39,
     "metadata": {},
     "output_type": "execute_result"
    },
    {
     "data": {
      "image/png": "[encoded data removed]",
      "text/plain": [
       "<Figure size 432x288 with 2 Axes>"
      ]
     },
     "metadata": {
      "needs_background": "light"
     },
     "output_type": "display_data"
    }
   ],
   "source": [
    "ax = df_monthly.plot(y=\"monthly_avg\", use_index=True)\n",
    "df_monthly.plot(y=\"avg_cumsum\", secondary_y = True, ax=ax, use_index=True)\n",
    "# ax는 일종의 판의 역할"
   ]
  }
 ],
 "metadata": {
  "interpreter": {
   "hash": "6f64cbf213417c81574706ce5c890b498fe793337df50d850298e0e999d57f7d"
  },
  "kernelspec": {
   "display_name": "Python 3.9.7 ('da')",
   "language": "python",
   "name": "python3"
  },
  "language_info": {
   "codemirror_mode": {
    "name": "ipython",
    "version": 3
   },
   "file_extension": ".py",
   "mimetype": "text/x-python",
   "name": "python",
   "nbconvert_exporter": "python",
   "pygments_lexer": "ipython3",
   "version": "3.9.7"
  },
  "orig_nbformat": 4
 },
 "nbformat": 4,
 "nbformat_minor": 2
}
