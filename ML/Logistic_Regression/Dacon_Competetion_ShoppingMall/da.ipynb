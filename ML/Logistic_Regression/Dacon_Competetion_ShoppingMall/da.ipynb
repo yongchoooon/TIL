{
 "cells": [
  {
   "cell_type": "code",
   "execution_count": 18,
   "metadata": {},
   "outputs": [],
   "source": [
    "import numpy as np\n",
    "import pandas as pd\n",
    "import os"
   ]
  },
  {
   "cell_type": "code",
   "execution_count": 2,
   "metadata": {},
   "outputs": [],
   "source": [
    "DATA_DIR = \"./data\""
   ]
  },
  {
   "cell_type": "code",
   "execution_count": 3,
   "metadata": {},
   "outputs": [],
   "source": [
    "df_train = pd.read_csv(os.path.join(DATA_DIR, \"train.csv\"), index_col=\"id\")\n",
    "df_test = pd.read_csv(os.path.join(DATA_DIR, \"test.csv\"), index_col=\"id\")"
   ]
  },
  {
   "cell_type": "code",
   "execution_count": 4,
   "metadata": {},
   "outputs": [
    {
     "data": {
      "text/html": [
       "<div>\n",
       "<style scoped>\n",
       "    .dataframe tbody tr th:only-of-type {\n",
       "        vertical-align: middle;\n",
       "    }\n",
       "\n",
       "    .dataframe tbody tr th {\n",
       "        vertical-align: top;\n",
       "    }\n",
       "\n",
       "    .dataframe thead th {\n",
       "        text-align: right;\n",
       "    }\n",
       "</style>\n",
       "<table border=\"1\" class=\"dataframe\">\n",
       "  <thead>\n",
       "    <tr style=\"text-align: right;\">\n",
       "      <th></th>\n",
       "      <th>reviews</th>\n",
       "      <th>target</th>\n",
       "    </tr>\n",
       "    <tr>\n",
       "      <th>id</th>\n",
       "      <th></th>\n",
       "      <th></th>\n",
       "    </tr>\n",
       "  </thead>\n",
       "  <tbody>\n",
       "    <tr>\n",
       "      <th>0</th>\n",
       "      <td>조아요 처음구입 싸게햇어요</td>\n",
       "      <td>2</td>\n",
       "    </tr>\n",
       "    <tr>\n",
       "      <th>1</th>\n",
       "      <td>생각보다 잘 안돼요 매지 바른지 하루밖에 안됐는데ㅠㅠ 25천원가량 주고 사기 너무 ...</td>\n",
       "      <td>1</td>\n",
       "    </tr>\n",
       "    <tr>\n",
       "      <th>2</th>\n",
       "      <td>디자인은괜찮은데 상품이 금이가서 교환했는데 두번째받은상품도 까져있고 안쪽에 금이가져...</td>\n",
       "      <td>2</td>\n",
       "    </tr>\n",
       "    <tr>\n",
       "      <th>3</th>\n",
       "      <td>기전에 이 제품말고 이마트 트레이더스에서만 팔던 프리미엄 제품을 사용했었습니다. 샘...</td>\n",
       "      <td>2</td>\n",
       "    </tr>\n",
       "    <tr>\n",
       "      <th>4</th>\n",
       "      <td>튼튼하고 손목을 잘 받쳐주네요~</td>\n",
       "      <td>5</td>\n",
       "    </tr>\n",
       "  </tbody>\n",
       "</table>\n",
       "</div>"
      ],
      "text/plain": [
       "                                              reviews  target\n",
       "id                                                           \n",
       "0                                      조아요 처음구입 싸게햇어요       2\n",
       "1   생각보다 잘 안돼요 매지 바른지 하루밖에 안됐는데ㅠㅠ 25천원가량 주고 사기 너무 ...       1\n",
       "2   디자인은괜찮은데 상품이 금이가서 교환했는데 두번째받은상품도 까져있고 안쪽에 금이가져...       2\n",
       "3   기전에 이 제품말고 이마트 트레이더스에서만 팔던 프리미엄 제품을 사용했었습니다. 샘...       2\n",
       "4                                   튼튼하고 손목을 잘 받쳐주네요~       5"
      ]
     },
     "execution_count": 4,
     "metadata": {},
     "output_type": "execute_result"
    }
   ],
   "source": [
    "df_train.head()"
   ]
  },
  {
   "cell_type": "code",
   "execution_count": 5,
   "metadata": {},
   "outputs": [
    {
     "name": "stdout",
     "output_type": "stream",
     "text": [
      "<class 'pandas.core.frame.DataFrame'>\n",
      "Int64Index: 25000 entries, 0 to 24999\n",
      "Data columns (total 2 columns):\n",
      " #   Column   Non-Null Count  Dtype \n",
      "---  ------   --------------  ----- \n",
      " 0   reviews  25000 non-null  object\n",
      " 1   target   25000 non-null  int64 \n",
      "dtypes: int64(1), object(1)\n",
      "memory usage: 585.9+ KB\n"
     ]
    }
   ],
   "source": [
    "df_train.info()"
   ]
  },
  {
   "cell_type": "code",
   "execution_count": 6,
   "metadata": {},
   "outputs": [
    {
     "name": "stdout",
     "output_type": "stream",
     "text": [
      "------train data------\n",
      "target 1 : 4500개, 18%\n",
      "target 2 : 8000개, 32%\n",
      "target 4 : 2500개, 10%\n",
      "target 5 : 10000개, 40%\n"
     ]
    }
   ],
   "source": [
    "print(\"------train data------\")\n",
    "print(f\"target 1 : {(df_train['target'] == 1).sum()}개, {round((df_train['target'] == 1).sum() / 25000 * 100)}%\")\n",
    "print(f\"target 2 : {(df_train['target'] == 2).sum()}개, {round((df_train['target'] == 2).sum() / 25000 * 100)}%\")\n",
    "print(f\"target 4 : {(df_train['target'] == 4).sum()}개, {round((df_train['target'] == 4).sum() / 25000 * 100)}%\")\n",
    "print(f\"target 5 : {(df_train['target'] == 5).sum()}개, {round((df_train['target'] == 5).sum() / 25000 * 100)}%\")"
   ]
  },
  {
   "cell_type": "code",
   "execution_count": 7,
   "metadata": {},
   "outputs": [
    {
     "name": "stdout",
     "output_type": "stream",
     "text": [
      "리뷰 길이 최대값 : 140\n",
      "리뷰 길이 최소값 : 5\n",
      "리뷰 길이 평균 : 39.98808\n",
      "리뷰 길이 표준편차 : 29.423689912292634\n",
      "리뷰 길이 중앙값 : 29.0\n"
     ]
    }
   ],
   "source": [
    "review_length = df_train[\"reviews\"].map(lambda x: len(x))\n",
    "\n",
    "print(f'리뷰 길이 최대값 : {review_length.max()}')\n",
    "print(f'리뷰 길이 최소값 : {review_length.min()}')\n",
    "print(f'리뷰 길이 평균 : {review_length.mean()}')\n",
    "print(f'리뷰 길이 표준편차 : {review_length.std()}')\n",
    "print(f'리뷰 길이 중앙값 : {review_length.median()}')"
   ]
  },
  {
   "cell_type": "markdown",
   "metadata": {},
   "source": [
    "## 접근 방식\n",
    "- target이 1,2,4,5이기 때문에 multiclass 문제로 봐야 할 것 같음.\n",
    "- CountVectorizer : \n",
    "  - `from sklearn.feature_extraction.text import CountVectorizer`\n",
    "- konlpy\n",
    "  - `from konlpy import Okt`\n",
    "- TF-IDF\n",
    "  - `from sklearn.feature_extraction.text import TfidfVectorizer`"
   ]
  },
  {
   "cell_type": "markdown",
   "metadata": {},
   "source": [
    "### koNLPy 사용\n",
    "1. `Okt`로 문장을 토큰화\n",
    "2. `Okt.pos()`로 텍스트를 형태소 단위로 나눈 뒤 품사 tagging\n",
    "3. 명사, 동사, 형용사, 부사, 숫자, KoreanParticle로 tagging\n",
    "4. train/validation\n",
    "4. `CountVectorizer`로 텍스트 벡터화\n",
    "5. LogisticRegression 학습 및 validation set으로 모델 검증"
   ]
  },
  {
   "cell_type": "markdown",
   "metadata": {},
   "source": [
    "### TF-IDF\n"
   ]
  },
  {
   "cell_type": "code",
   "execution_count": 31,
   "metadata": {},
   "outputs": [
    {
     "data": {
      "text/plain": [
       "'생각 보다 잘 안 돼요 매지 바른지 하루 밖에 안 됐는데 ㅠㅠ 25천원 가량 주고 사기 너무 아깝네요'"
      ]
     },
     "execution_count": 31,
     "metadata": {},
     "output_type": "execute_result"
    }
   ],
   "source": [
    "okt = Okt()\n",
    "tokens = okt.morphs((df_train.reviews[1]))\n",
    "tokenize = \" \".join(tokens)\n",
    "tokenize"
   ]
  },
  {
   "cell_type": "code",
   "execution_count": 14,
   "metadata": {},
   "outputs": [
    {
     "data": {
      "text/plain": [
       "[('생각', 'Noun'),\n",
       " ('보다', 'Verb'),\n",
       " ('잘', 'Verb'),\n",
       " ('안', 'Noun'),\n",
       " ('돼요', 'Verb'),\n",
       " ('매지', 'Verb'),\n",
       " ('바른지', 'Verb'),\n",
       " ('하루', 'Noun'),\n",
       " ('밖에', 'Josa'),\n",
       " ('안', 'Noun'),\n",
       " ('됐는데', 'Verb'),\n",
       " ('ㅠㅠ', 'KoreanParticle'),\n",
       " ('25천원', 'Number'),\n",
       " ('가량', 'Noun'),\n",
       " ('주고', 'Verb'),\n",
       " ('사기', 'Noun'),\n",
       " ('너무', 'Adverb'),\n",
       " ('아깝네요', 'Adjective')]"
      ]
     },
     "execution_count": 14,
     "metadata": {},
     "output_type": "execute_result"
    }
   ],
   "source": [
    "pos = okt.pos(tokenize)\n",
    "pos"
   ]
  },
  {
   "cell_type": "code",
   "execution_count": 35,
   "metadata": {},
   "outputs": [
    {
     "data": {
      "text/plain": [
       "CountVectorizer()"
      ]
     },
     "execution_count": 35,
     "metadata": {},
     "output_type": "execute_result"
    }
   ],
   "source": [
    "from sklearn.feature_extraction.text import CountVectorizer\n",
    "\n",
    "vectorizer = CountVectorizer()\n",
    "vectorizer.fit([tokenize])"
   ]
  },
  {
   "cell_type": "code",
   "execution_count": 37,
   "metadata": {},
   "outputs": [
    {
     "name": "stdout",
     "output_type": "stream",
     "text": [
      "{'생각': 11, '보다': 9, '돼요': 4, '매지': 6, '바른지': 7, '하루': 14, '밖에': 8, '됐는데': 5, 'ㅠㅠ': 1, '25천원': 0, '가량': 2, '주고': 13, '사기': 10, '너무': 3, '아깝네요': 12}\n"
     ]
    }
   ],
   "source": [
    "print(vectorizer.vocabulary_)"
   ]
  }
 ],
 "metadata": {
  "kernelspec": {
   "display_name": "Python 3.9.12 ('base')",
   "language": "python",
   "name": "python3"
  },
  "language_info": {
   "codemirror_mode": {
    "name": "ipython",
    "version": 3
   },
   "file_extension": ".py",
   "mimetype": "text/x-python",
   "name": "python",
   "nbconvert_exporter": "python",
   "pygments_lexer": "ipython3",
   "version": "3.9.12"
  },
  "orig_nbformat": 4,
  "vscode": {
   "interpreter": {
    "hash": "c585f91d3623973be3accc48b0d5e967ce904a396a0f0c8bda7b100d8b60333f"
   }
  }
 },
 "nbformat": 4,
 "nbformat_minor": 2
}
