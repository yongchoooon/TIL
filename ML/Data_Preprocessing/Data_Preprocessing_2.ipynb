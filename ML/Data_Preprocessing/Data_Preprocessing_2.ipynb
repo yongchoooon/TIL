{
 "cells": [
  {
   "cell_type": "markdown",
   "metadata": {},
   "source": [
    "# Data Preprocessing\n",
    "- 지금 연습하려는 titanic 데이터는 깔끔하게 정리된 데이터이지만, \n",
    "- 실제로 다루는 데이터는 정리된 데이터가 아니다.\n",
    "- 머신이 잘 이해할 수 있도록 깔끔하게 데이터를 전처리해주어야 한다.\n",
    "- 그래서 Data Cleansing, Feature Engineering, Exploratory Data Analysis의 과정을 거쳐야 함."
   ]
  },
  {
   "cell_type": "markdown",
   "metadata": {},
   "source": [
    "## 데이터 처리의 전략\n",
    "- 모판은 흔들지 않는다 \n",
    "- 하나의 셀은 다시 실행해도 그 결과가 보장되어야 한다.\n",
    "- 전처리가 완료 후 함수화한다. (merge 함수 필수)\n",
    "- 컬럼 이름은 list로 관리하기! 직접 입력 X\n",
    "- 데이터는 타입별로 분리해서 관리하기!\n",
    "- **데이터 노트 작성하기!!!**"
   ]
  },
  {
   "cell_type": "markdown",
   "metadata": {},
   "source": [
    "## 데이터 노트\n",
    "- 데이터에 대한 처리 내용 및 방향을 정리한 노트\n",
    "- 기본적인 전처리 방향과 방법들을 정리함\n",
    "- 데이터에 대한 아이디어를 정리와 지속적인 업데이트\n",
    "- 기본적인 데이터 현황 파악 코드\n",
    "    - `df.dtypes` : columns의 타입 확인\n",
    "    - `df.info()`\n",
    "    - `df.isnull().sum()` : column별로 빈 칸 갯수 확인\n",
    "    - `df.describe()`\n",
    "    - `df.head(2).T` : value 확인 시 T로 해서 보면 편함"
   ]
  },
  {
   "cell_type": "markdown",
   "metadata": {},
   "source": [
    "- 위 skill들을 활용해 데이터 노트를 작성\n",
    "- 협업 시 다른 사람이 데이터에 대한 정보를 알아보기 쉽게 작성하는 것이 요점\n",
    "- [Data_note](https://github.com/yongchoooon/TIL/tree/main/ML/Data_Preprocessing/Data_Note.xlsx)"
   ]
  },
  {
   "cell_type": "markdown",
   "metadata": {},
   "source": [
    "## Data Cleansing issues\n",
    "- 데이터가 빠진 경우 (결측치의 처리)\n",
    "- 라벨링된 데이터(category) 데이터의 처리\n",
    "- 데이터의 scale의 차이가 매우 크게 날 경우"
   ]
  }
 ],
 "metadata": {
  "interpreter": {
   "hash": "04a8ea47db90eb98c0a3e50c121f0eb4c8939b74ce49bf99b707c7ec249a9133"
  },
  "kernelspec": {
   "display_name": "Python 3.9.7 ('da')",
   "language": "python",
   "name": "python3"
  },
  "language_info": {
   "name": "python",
   "version": "3.9.7"
  },
  "orig_nbformat": 4
 },
 "nbformat": 4,
 "nbformat_minor": 2
}
