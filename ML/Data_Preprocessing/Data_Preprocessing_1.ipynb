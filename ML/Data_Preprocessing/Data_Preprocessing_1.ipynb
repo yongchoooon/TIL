{
 "cells": [
  {
   "cell_type": "markdown",
   "metadata": {},
   "source": [
    "# ML Process\n",
    "- Data Acquisition\n",
    "- Data Cleaning (데이터 전처리, feature engineering, EDA)\n",
    "    - Data 나누기 과정(Hold out Test Dataset은 Evaluate Model에서 성능지표 만들 때, Test Dataset은 Test Model 만들 때 사용)\n",
    "- Train Dataset\n",
    "- Train ML Model <-> Test Model (Hyper parameter turning Ensemble method)\n",
    "- Evaluate Model\n",
    "- Deploy Model\n",
    "\n"
   ]
  },
  {
   "cell_type": "markdown",
   "metadata": {},
   "source": [
    "## ML을 하기 위해 해야하는 것들\n",
    "- 데이터 나누기 : Train, Validation, Test\n",
    "- 데이터 전처리 하기\n",
    "    - 탐색적 자료 분석 (EDA)\n",
    "    - Feature engineering"
   ]
  },
  {
   "cell_type": "markdown",
   "metadata": {},
   "source": [
    "## 데이터 모판\n",
    "- Dataset을 Train data와 Test data으로 나누고 이를 한 판으로 만들어 주어야 함.\n",
    "- Train과 Test 데이터 셋의 각 컬럼에는 같은 전처리 적용해야 함.\n",
    "- 데이터에 따라 Train에만 있고 Test에는 존재하지 않는 경우도 있음.\n",
    "    - 초기 데이터 전처리 시 규칙을 만들어야 함.\n",
    "- 데이터의 분포를 좀 더 넓게 볼 수 있음\n",
    "> $y = f(x_1, x_2, x_3, ... , x_n)$\n",
    "- 실제 서비스에서는 모델 생성 시 사용한 전처리를 그대로 활용하여야 함."
   ]
  },
  {
   "cell_type": "code",
   "execution_count": 4,
   "metadata": {},
   "outputs": [],
   "source": [
    "import pandas as pd\n",
    "import os\n",
    "import matplotlib.pyplot as plt\n",
    "import numpy as np\n",
    "\n",
    "\n",
    "import seaborn as sns\n",
    "sns.set(style=\"white\") # white background style for seaborn plots\n",
    "sns.set(style=\"whitegrid\", color_codes = True)"
   ]
  },
  {
   "cell_type": "code",
   "execution_count": 3,
   "metadata": {},
   "outputs": [
    {
     "ename": "FileNotFoundError",
     "evalue": "[WinError 3] 지정된 경로를 찾을 수 없습니다: './titanic'",
     "output_type": "error",
     "traceback": [
      "\u001b[1;31m---------------------------------------------------------------------------\u001b[0m",
      "\u001b[1;31mFileNotFoundError\u001b[0m                         Traceback (most recent call last)",
      "\u001b[1;32mc:\\workspace\\TIL\\ML\\Data_Preprocessing\\Data_Preprocessing_1.ipynb Cell 5'\u001b[0m in \u001b[0;36m<cell line: 2>\u001b[1;34m()\u001b[0m\n\u001b[0;32m      <a href='vscode-notebook-cell:/c%3A/workspace/TIL/ML/Data_Preprocessing/Data_Preprocessing_1.ipynb#ch0000004?line=0'>1</a>\u001b[0m DATA_DIR \u001b[39m=\u001b[39m \u001b[39m'\u001b[39m\u001b[39m./titanic\u001b[39m\u001b[39m'\u001b[39m\n\u001b[1;32m----> <a href='vscode-notebook-cell:/c%3A/workspace/TIL/ML/Data_Preprocessing/Data_Preprocessing_1.ipynb#ch0000004?line=1'>2</a>\u001b[0m data_files \u001b[39m=\u001b[39m \u001b[39mreversed\u001b[39m([os\u001b[39m.\u001b[39mpath\u001b[39m.\u001b[39mjoin(DATA_DIR, filename) \u001b[39mfor\u001b[39;00m filename \u001b[39min\u001b[39;00m os\u001b[39m.\u001b[39;49mlistdir(DATA_DIR)])\n\u001b[0;32m      <a href='vscode-notebook-cell:/c%3A/workspace/TIL/ML/Data_Preprocessing/Data_Preprocessing_1.ipynb#ch0000004?line=2'>3</a>\u001b[0m df_list \u001b[39m=\u001b[39m []\n\u001b[0;32m      <a href='vscode-notebook-cell:/c%3A/workspace/TIL/ML/Data_Preprocessing/Data_Preprocessing_1.ipynb#ch0000004?line=3'>4</a>\u001b[0m \u001b[39mfor\u001b[39;00m filename \u001b[39min\u001b[39;00m data_files:\n",
      "\u001b[1;31mFileNotFoundError\u001b[0m: [WinError 3] 지정된 경로를 찾을 수 없습니다: './titanic'"
     ]
    }
   ],
   "source": [
    "DATA_DIR = './titanic'\n",
    "data_files = reversed([os.path.join(DATA_DIR, filename) for filename in os.listdir(DATA_DIR)])\n",
    "df_list = []\n",
    "for filename in data_files:\n",
    "    df_list.append(pd.read_csv(filename)) # csv 파일을 불러와서 df_list에 train, test 순으로 넣어줌\n",
    "# train은 y가 있고 test는 y가 없음 (y는 'survived' column)\n",
    "\n",
    "df = pd.concat(df_list, sort=False) # train과 test를 한 모판으로 만들어 주는 것\n",
    "df = df.reset_index(drop=True) # index를 reset해주고 원래 index는 drop\n",
    "\n",
    "number_of_train_dataset = df.Survived.notnull().sum() # train data의 y의 갯수\n",
    "number_of_test_dataset = df.Survived.isnull().sum() # test data는 y가 없음, NaN의 갯수\n",
    "y_true = df.pop(\"Survived\")[:number_of_train_dataset] # train data의 y만 pop해서 따로 저장\n",
    "df.tail() # train test 모판 완성, y는 따로 저장"
   ]
  },
  {
   "cell_type": "code",
   "execution_count": null,
   "metadata": {},
   "outputs": [],
   "source": []
  }
 ],
 "metadata": {
  "interpreter": {
   "hash": "cc559ded4c07dd5d7e91d31f6492afc13b9aee8598d231e373ec0f74b4653a08"
  },
  "kernelspec": {
   "display_name": "Python 3.9.12 ('da')",
   "language": "python",
   "name": "python3"
  },
  "language_info": {
   "codemirror_mode": {
    "name": "ipython",
    "version": 3
   },
   "file_extension": ".py",
   "mimetype": "text/x-python",
   "name": "python",
   "nbconvert_exporter": "python",
   "pygments_lexer": "ipython3",
   "version": "3.9.12"
  },
  "orig_nbformat": 4
 },
 "nbformat": 4,
 "nbformat_minor": 2
}
