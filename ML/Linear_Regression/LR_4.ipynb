{
 "cells": [
  {
   "cell_type": "markdown",
   "metadata": {},
   "source": [
    "# Performance measure\n",
    "- 만들어진 모델의 성능은 어떻게 평가할 것인가?"
   ]
  },
  {
   "cell_type": "markdown",
   "metadata": {},
   "source": [
    "## Regression metrics"
   ]
  },
  {
   "cell_type": "markdown",
   "metadata": {},
   "source": [
    "### Mean Absolute Error\n",
    "\n",
    "> $MAE = \\frac{1}{n}\\displaystyle\\sum_{i=1}^{m}{|y_i - \\hat{y_i}|} = \\displaystyle\\sum_{i=1}^{m}{|e_i|}$\n",
    "- 잔차의 절댓값의 Sum"
   ]
  },
  {
   "cell_type": "code",
   "execution_count": 1,
   "metadata": {},
   "outputs": [
    {
     "data": {
      "text/plain": [
       "0.5"
      ]
     },
     "execution_count": 1,
     "metadata": {},
     "output_type": "execute_result"
    }
   ],
   "source": [
    "from sklearn.metrics import mean_absolute_error\n",
    "y_true = [3, -0.5, 2, 7]\n",
    "y_pred = [2.5, 0, 2, 8]\n",
    "mean_absolute_error(y_true, y_pred)"
   ]
  },
  {
   "cell_type": "markdown",
   "metadata": {},
   "source": [
    "### Root Mean Squared Error (RMSE)\n",
    "\n",
    "> $RMSE = \\sqrt{\\frac{1}{n}\\displaystyle\\sum_{i=1}^{m}{(y_i - \\hat{y_i})^2}}$\n",
    "- 잔차 제곱의 Sum의 루트\n",
    "- RMSE는 `sklearn`에서 제공되지 않기 때문에 MSE를 구해서 직접 계산해야 함"
   ]
  },
  {
   "cell_type": "code",
   "execution_count": 2,
   "metadata": {},
   "outputs": [
    {
     "data": {
      "text/plain": [
       "0.375"
      ]
     },
     "execution_count": 2,
     "metadata": {},
     "output_type": "execute_result"
    }
   ],
   "source": [
    "from sklearn.metrics import mean_squared_error\n",
    "y_true = [3, -0.5, 2, 7]\n",
    "y_pred = [2.5, 0, 2, 8]\n",
    "mean_squared_error(y_true, y_pred)"
   ]
  },
  {
   "cell_type": "markdown",
   "metadata": {},
   "source": [
    "### R squared\n",
    "\n",
    "> $R^2 = 1 - \\frac{\\sum_{i}{(y_i-\\hat{y}_i)^2}}{\\sum_{i}{(y_i-\\mu)^2}}$\n",
    "- 0과 1 사이의 숫자\n",
    "- 크면 클수록 높은 적합도를 지님"
   ]
  },
  {
   "cell_type": "code",
   "execution_count": 4,
   "metadata": {},
   "outputs": [
    {
     "data": {
      "text/plain": [
       "0.9486081370449679"
      ]
     },
     "execution_count": 4,
     "metadata": {},
     "output_type": "execute_result"
    }
   ],
   "source": [
    "from sklearn.metrics import r2_score\n",
    "y_true = [3, -0.5, 2, 7]\n",
    "y_pred = [2.5, 0, 2, 8]\n",
    "r2_score(y_true, y_pred)"
   ]
  },
  {
   "cell_type": "markdown",
   "metadata": {},
   "source": [
    "## Training & Test data set\n",
    "- 모델을 만드는 데이터과 평가받는 데이터를 나누는 것. "
   ]
  },
  {
   "cell_type": "markdown",
   "metadata": {},
   "source": [
    "- Training한 데이터로 다시 Test를 할 경우, Training 데이터에 과도하게 fitting(:=overfitting)된 모델이 사용될 수 있음\n",
    "- 새로운 데이터가 출현했을 대, 기존 모델과의 차이 존재\n",
    "- 모델은 새로운 데이터를 처리할 수 있도록 generalize 되어야 함\n",
    "- 이를 위해 Training Set과 Test Set을 분리함"
   ]
  },
  {
   "cell_type": "markdown",
   "metadata": {},
   "source": [
    "### Holdout Method (Sampling)\n",
    "- 데이터를 Training과 Test로 나누어서 모델을 생성하고 테스트하는 기법\n",
    "- 가장 일반적인 모델 생성을 위한 데이터 랜덤 샘플링 기법\n",
    "- Training과 Test를 나누는 비율은 데이터의 크기에 따라 다름\n",
    "- 일반적으로 Training Data 2/3, Test Data 1/3을 활용함"
   ]
  },
  {
   "cell_type": "code",
   "execution_count": 11,
   "metadata": {},
   "outputs": [
    {
     "name": "stdout",
     "output_type": "stream",
     "text": [
      "X_train\n",
      " [[4 5]\n",
      " [0 1]\n",
      " [6 7]]\n",
      "X_test\n",
      " [[2 3]\n",
      " [8 9]]\n",
      "y_train\n",
      " [2, 0, 3]\n",
      "y_test\n",
      " [1, 4]\n"
     ]
    }
   ],
   "source": [
    "import numpy as np\n",
    "from sklearn.model_selection import train_test_split\n",
    "\n",
    "X, y = np.arange(10).reshape((5,2)), range(5)\n",
    "\n",
    "X_train, X_test, y_train, y_test = train_test_split(X, y, test_size = 0.33, random_state = 42)\n",
    "print(\"X_train\\n\", X_train)\n",
    "print(\"X_test\\n\", X_test)\n",
    "print(\"y_train\\n\", y_train)\n",
    "print(\"y_test\\n\", y_test)"
   ]
  },
  {
   "cell_type": "markdown",
   "metadata": {},
   "source": [
    "---"
   ]
  },
  {
   "cell_type": "markdown",
   "metadata": {},
   "source": [
    "# Linear Regression with Sklearn"
   ]
  },
  {
   "cell_type": "markdown",
   "metadata": {},
   "source": [
    "## Dataset - Boston House Price Dataset\n",
    "- 머신러닝 등 데이터 분석을 처음 배울 때 가장 대표적으로 사용하는 Example Dataset"
   ]
  },
  {
   "cell_type": "markdown",
   "metadata": {},
   "source": [
    "## 데이터 로딩"
   ]
  },
  {
   "cell_type": "code",
   "execution_count": 14,
   "metadata": {},
   "outputs": [],
   "source": [
    "from sklearn.datasets import load_boston\n",
    "import matplotlib.pyplot as plt\n",
    "import numpy as np\n",
    "\n",
    "import warnings\n",
    "warnings.filterwarnings(action='ignore')"
   ]
  },
  {
   "cell_type": "code",
   "execution_count": 19,
   "metadata": {},
   "outputs": [
    {
     "data": {
      "text/plain": [
       "dict_keys(['data', 'target', 'feature_names', 'DESCR', 'filename', 'data_module'])"
      ]
     },
     "execution_count": 19,
     "metadata": {},
     "output_type": "execute_result"
    }
   ],
   "source": [
    "boston = load_boston()\n",
    "boston.keys()"
   ]
  },
  {
   "cell_type": "code",
   "execution_count": 20,
   "metadata": {},
   "outputs": [
    {
     "data": {
      "text/plain": [
       "(array([[6.3200e-03, 1.8000e+01, 2.3100e+00, 0.0000e+00, 5.3800e-01,\n",
       "         6.5750e+00, 6.5200e+01, 4.0900e+00, 1.0000e+00, 2.9600e+02,\n",
       "         1.5300e+01, 3.9690e+02, 4.9800e+00],\n",
       "        [2.7310e-02, 0.0000e+00, 7.0700e+00, 0.0000e+00, 4.6900e-01,\n",
       "         6.4210e+00, 7.8900e+01, 4.9671e+00, 2.0000e+00, 2.4200e+02,\n",
       "         1.7800e+01, 3.9690e+02, 9.1400e+00],\n",
       "        [2.7290e-02, 0.0000e+00, 7.0700e+00, 0.0000e+00, 4.6900e-01,\n",
       "         7.1850e+00, 6.1100e+01, 4.9671e+00, 2.0000e+00, 2.4200e+02,\n",
       "         1.7800e+01, 3.9283e+02, 4.0300e+00]]),\n",
       " (506, 13))"
      ]
     },
     "execution_count": 20,
     "metadata": {},
     "output_type": "execute_result"
    }
   ],
   "source": [
    "x_data = boston.data\n",
    "y_data = boston.target.reshape(boston.target.size, 1)\n",
    "\n",
    "x_data[:3], x_data.shape"
   ]
  },
  {
   "cell_type": "markdown",
   "metadata": {},
   "source": [
    "## 데이터 스케일링"
   ]
  },
  {
   "cell_type": "code",
   "execution_count": 28,
   "metadata": {},
   "outputs": [
    {
     "data": {
      "text/plain": [
       "array([[0.00000000e+00, 1.80000000e-01, 6.78152493e-02, 0.00000000e+00,\n",
       "        3.14814815e-01, 5.77505269e-01, 6.41606591e-01, 2.69203139e-01,\n",
       "        0.00000000e+00, 2.08015267e-01, 2.87234043e-01, 1.00000000e+00,\n",
       "        8.96799117e-02],\n",
       "       [2.35922539e-04, 0.00000000e+00, 2.42302053e-01, 0.00000000e+00,\n",
       "        1.72839506e-01, 5.47997701e-01, 7.82698249e-01, 3.48961980e-01,\n",
       "        4.34782609e-02, 1.04961832e-01, 5.53191489e-01, 1.00000000e+00,\n",
       "        2.04470199e-01],\n",
       "       [2.35697744e-04, 0.00000000e+00, 2.42302053e-01, 0.00000000e+00,\n",
       "        1.72839506e-01, 6.94385898e-01, 5.99382080e-01, 3.48961980e-01,\n",
       "        4.34782609e-02, 1.04961832e-01, 5.53191489e-01, 9.89737254e-01,\n",
       "        6.34657837e-02]])"
      ]
     },
     "execution_count": 28,
     "metadata": {},
     "output_type": "execute_result"
    }
   ],
   "source": [
    "from sklearn import preprocessing\n",
    "\n",
    "minmax_scale = preprocessing.MinMaxScaler().fit(x_data)\n",
    "# standard_scale = preprocessing.StandardScaler().fit(x_data)\n",
    "x_scaled_data = minmax_scale.transform(x_data)\n",
    "\n",
    "x_scaled_data[:3]"
   ]
  },
  {
   "cell_type": "markdown",
   "metadata": {},
   "source": [
    "## Train-Test Split"
   ]
  },
  {
   "cell_type": "code",
   "execution_count": 29,
   "metadata": {},
   "outputs": [],
   "source": [
    "from sklearn.model_selection import train_test_split\n",
    "\n",
    "\n",
    "X_train, X_test, y_train, y_test = train_test_split(x_scaled_data, y_data, test_size = 0.33)"
   ]
  },
  {
   "cell_type": "code",
   "execution_count": 30,
   "metadata": {},
   "outputs": [
    {
     "data": {
      "text/plain": [
       "((339, 13), (167, 13), (339, 1), (167, 1))"
      ]
     },
     "execution_count": 30,
     "metadata": {},
     "output_type": "execute_result"
    }
   ],
   "source": [
    "X_train.shape, X_test.shape, y_train.shape, y_test.shape"
   ]
  },
  {
   "cell_type": "markdown",
   "metadata": {},
   "source": [
    "## Linear Regression fitting"
   ]
  },
  {
   "cell_type": "markdown",
   "metadata": {},
   "source": [
    "$y = w_1x_1 + w_2x_2 + w_3x_3 + \\cdots + w_{13}x_{13} + w_0\\cdot{1}$"
   ]
  },
  {
   "cell_type": "code",
   "execution_count": 31,
   "metadata": {},
   "outputs": [
    {
     "data": {
      "text/plain": [
       "LinearRegression(n_jobs=8, normalize=False)"
      ]
     },
     "execution_count": 31,
     "metadata": {},
     "output_type": "execute_result"
    }
   ],
   "source": [
    "from sklearn import linear_model\n",
    "\n",
    "regr = linear_model.LinearRegression(fit_intercept = True,\n",
    "                                     normalize = False,\n",
    "                                     copy_X = True,\n",
    "                                     n_jobs = 8)\n",
    "regr.fit(X_train, y_train)\n",
    "regr"
   ]
  },
  {
   "cell_type": "code",
   "execution_count": 33,
   "metadata": {},
   "outputs": [
    {
     "name": "stdout",
     "output_type": "stream",
     "text": [
      "Coefficients :  [[ -7.99271874   6.6647091    0.39235496   3.3176537   -9.99519066\n",
      "   14.96370469   1.44066423 -18.06332196   7.62988635  -7.23227411\n",
      "   -8.66169773   3.95431502 -20.91999637]]\n",
      "intercept :  [29.26871536]\n"
     ]
    }
   ],
   "source": [
    "# coefficient는 feature의 개수와 같이 13개\n",
    "print('Coefficients : ', regr.coef_)\n",
    "print('intercept : ', regr.intercept_)"
   ]
  },
  {
   "cell_type": "markdown",
   "metadata": {},
   "source": [
    "- 아래 두 코드는 같은 의미임"
   ]
  },
  {
   "cell_type": "code",
   "execution_count": 34,
   "metadata": {},
   "outputs": [
    {
     "data": {
      "text/plain": [
       "array([[-537.21060124]])"
      ]
     },
     "execution_count": 34,
     "metadata": {},
     "output_type": "execute_result"
    }
   ],
   "source": [
    "regr.predict(x_data[0].reshape(1, -1))"
   ]
  },
  {
   "cell_type": "code",
   "execution_count": 35,
   "metadata": {},
   "outputs": [
    {
     "data": {
      "text/plain": [
       "array([-537.21060124])"
      ]
     },
     "execution_count": 35,
     "metadata": {},
     "output_type": "execute_result"
    }
   ],
   "source": [
    "x_data[0].dot(regr.coef_.T) + regr.intercept_ # Xw와 같음"
   ]
  },
  {
   "cell_type": "markdown",
   "metadata": {},
   "source": [
    "## Metric 측정"
   ]
  },
  {
   "cell_type": "code",
   "execution_count": 37,
   "metadata": {},
   "outputs": [
    {
     "name": "stdout",
     "output_type": "stream",
     "text": [
      "r2 score :  0.7442122905628782\n",
      "MAE :  3.382843744756578\n",
      "MSE :  20.969623716102358\n"
     ]
    }
   ],
   "source": [
    "from sklearn.metrics import r2_score, mean_absolute_error, mean_squared_error\n",
    "\n",
    "y_true = y_test\n",
    "y_hat = regr.predict(X_test)\n",
    "\n",
    "print('r2 score : ', r2_score(y_true, y_hat)) \n",
    "print('MAE : ', mean_absolute_error(y_true, y_hat))\n",
    "print('MSE : ', mean_squared_error(y_true, y_hat))\n"
   ]
  }
 ],
 "metadata": {
  "kernelspec": {
   "display_name": "Python 3.9.12 ('base')",
   "language": "python",
   "name": "python3"
  },
  "language_info": {
   "codemirror_mode": {
    "name": "ipython",
    "version": 3
   },
   "file_extension": ".py",
   "mimetype": "text/x-python",
   "name": "python",
   "nbconvert_exporter": "python",
   "pygments_lexer": "ipython3",
   "version": "3.9.12"
  },
  "orig_nbformat": 4,
  "vscode": {
   "interpreter": {
    "hash": "c585f91d3623973be3accc48b0d5e967ce904a396a0f0c8bda7b100d8b60333f"
   }
  }
 },
 "nbformat": 4,
 "nbformat_minor": 2
}
