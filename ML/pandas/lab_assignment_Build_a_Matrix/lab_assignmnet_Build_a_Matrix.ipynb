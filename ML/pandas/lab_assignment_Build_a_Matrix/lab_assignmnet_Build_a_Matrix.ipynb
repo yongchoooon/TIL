{
 "cells": [
  {
   "cell_type": "markdown",
   "metadata": {},
   "source": [
    "# Lab Assignment - Build a matrix"
   ]
  },
  {
   "cell_type": "markdown",
   "metadata": {},
   "source": [
    "Copyright 2018 © document created by teamLab.gachon@gmail.com"
   ]
  },
  {
   "cell_type": "markdown",
   "metadata": {},
   "source": [
    "URL : [GitHub/Teamlab](https://github.com/TeamLab/machine_learning_from_scratch_with_python/tree/master/lab_asssigment/2_lab_build_matrix)"
   ]
  },
  {
   "cell_type": "markdown",
   "metadata": {},
   "source": [
    "* **Q1 : get_rating_matrix** "
   ]
  },
  {
   "cell_type": "code",
   "execution_count": 31,
   "metadata": {},
   "outputs": [],
   "source": [
    "import numpy as np\n",
    "import pandas as pd\n",
    "\n",
    "\n",
    "def get_rating_matrix(filename, dtype=np.float32):\n",
    "    movie_rating = pd.read_csv(filename)\n",
    "\n",
    "    rating_pivot_table = movie_rating.pivot_table(\n",
    "        values = ['rating'],\n",
    "        index = movie_rating.source,\n",
    "        columns = movie_rating.target,\n",
    "        fill_value = 0\n",
    "        )\n",
    "    matrix = np.array(rating_pivot_table)\n",
    "    \n",
    "    return matrix"
   ]
  },
  {
   "cell_type": "code",
   "execution_count": 32,
   "metadata": {},
   "outputs": [
    {
     "name": "stdout",
     "output_type": "stream",
     "text": [
      "[[3.  0.  3.5 0.  4.5 0. ]\n",
      " [0.  3.  3.5 0.  3.  3.5]\n",
      " [0.  3.  4.  5.  3.  3.5]\n",
      " [3.  2.5 3.5 3.5 3.  2.5]\n",
      " [2.  3.  4.  3.  3.  0. ]\n",
      " [0.  0.  4.5 4.  0.  0. ]]\n"
     ]
    }
   ],
   "source": [
    "print(get_rating_matrix('./movie_rating.csv'))"
   ]
  },
  {
   "cell_type": "markdown",
   "metadata": {},
   "source": [
    "* **Q2 : get_frequent_matrix** "
   ]
  },
  {
   "cell_type": "code",
   "execution_count": 49,
   "metadata": {},
   "outputs": [],
   "source": [
    "def get_frequent_matrix(filename, dtype=np.float32):\n",
    "    purchase = pd.read_csv(filename)\n",
    "    df_purchase = purchase.groupby(['source','target'])['target'].count().unstack()\n",
    "    matrix = np.array(df_purchase)\n",
    "    \n",
    "    return matrix"
   ]
  },
  {
   "cell_type": "code",
   "execution_count": 50,
   "metadata": {},
   "outputs": [
    {
     "name": "stdout",
     "output_type": "stream",
     "text": [
      "[[19 17 14 11 17 25  7 22  5 18 10 13 13  8 20 10  9 10 16 15  9 11 17 15\n",
      "  14  8  6 12 18 12  6 18  9 24  7 19 14  6  4 12 15 14 20  9 12 16 11  9\n",
      "  11 12]\n",
      " [20 16 10 15 17 18 10 13  5 19  8 14 14  9 15 14 13  8 12  9  5 10 28 18\n",
      "   7  8  6 19 14 13 11 12 18 15  7 11 17  9  5  5 13 12 15  9 13 16 16 10\n",
      "  16  9]\n",
      " [12 16 13 19 23 19  5 14  5 18  7  6 14  8 20 17 14 11 16 12  7  9 23 12\n",
      "  12  8  7 23 26 10  9 20 16 11  4 19 12 12  5 10 10 14 10 17 15 16 11 17\n",
      "   9 11]\n",
      " [14 14 19 11 11 18  7 16  7 17  6 19 18 12 13 13 14  9 21 16  6  6 19 14\n",
      "  19  5 12 14 18 11 11 21 15 10 11 14 17 21  6 14  9 16 18 12 16 16 26 16\n",
      "  12 20]\n",
      " [13  7  8 15 13 16  3 19 11 12  7 10 13 14 16 14 23  9 13 10 11  3 11 14\n",
      "   9  6 11 16 18 11  5 14 10 16 10  5 14 11  3  9 11 10 16  8 13 20 14 18\n",
      "  21  3]]\n"
     ]
    }
   ],
   "source": [
    "print(get_frequent_matrix('./1000i.csv'))"
   ]
  }
 ],
 "metadata": {
  "interpreter": {
   "hash": "6f64cbf213417c81574706ce5c890b498fe793337df50d850298e0e999d57f7d"
  },
  "kernelspec": {
   "display_name": "Python 3.9.7 ('da')",
   "language": "python",
   "name": "python3"
  },
  "language_info": {
   "codemirror_mode": {
    "name": "ipython",
    "version": 3
   },
   "file_extension": ".py",
   "mimetype": "text/x-python",
   "name": "python",
   "nbconvert_exporter": "python",
   "pygments_lexer": "ipython3",
   "version": "3.9.7"
  },
  "orig_nbformat": 4
 },
 "nbformat": 4,
 "nbformat_minor": 2
}
