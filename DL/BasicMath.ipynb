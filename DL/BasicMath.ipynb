{
 "cells": [
  {
   "cell_type": "markdown",
   "metadata": {},
   "source": [
    "# 기초 수학"
   ]
  },
  {
   "cell_type": "markdown",
   "metadata": {},
   "source": [
    "## 벡터는 뭔가요?"
   ]
  },
  {
   "cell_type": "markdown",
   "metadata": {},
   "source": [
    "- 열벡터는 `list`, 행벡터는 `np.array`로 표현\n",
    "- 벡터는 공간에서 `한 점`을 나타냄.\n",
    "- 벡터의 `노름(norm)`은 원점에서부터의 거리\n",
    "  - L1 노름은 각 성분의 `변화량의 절대값`을 모두 더함\n",
    "  - L2 노름은 피타고라스 정리를 이용해 `유클리드 거리`를 계산함\n",
    "    - `np.linalg.norm`으로 구현 가능"
   ]
  },
  {
   "cell_type": "markdown",
   "metadata": {},
   "source": [
    "- 내적\n",
    "  - 내적은 `정사영된 벡터의 길이`와 관련이 있다\n",
    "  - Proj(x)의 길이는 `코사인법칙`에의해 $||x||\\cos{\\theta}$가 된다\n",
    "  - 내적은 정사영의 길이를 `벡터 y의 길이 `$||y||$`만큼 조정`한 값이다\n",
    "<img src=\"./img/내적.JPG\" width=400>"
   ]
  },
  {
   "cell_type": "markdown",
   "metadata": {},
   "source": [
    "## 행렬은 뭔가요?"
   ]
  },
  {
   "cell_type": "markdown",
   "metadata": {},
   "source": [
    "- 행렬(matrix)은 벡터를 원소로 가지는 `2차원 배열`\n",
    "- 행렬 곱셈은 `i번째 행벡터와 j번째 열벡터 사이의 내적`을 성분으로 가지는 행렬을 계산함"
   ]
  },
  {
   "cell_type": "code",
   "execution_count": 3,
   "metadata": {},
   "outputs": [],
   "source": [
    "import numpy as np"
   ]
  },
  {
   "cell_type": "code",
   "execution_count": 6,
   "metadata": {},
   "outputs": [],
   "source": [
    "x = np.array([[1, -2, 3],\n",
    "              [7,5,0],\n",
    "              [-2,-1,2]])\n",
    "y = np.array([[0,1],\n",
    "              [1,-1],\n",
    "              [-2,1]])"
   ]
  },
  {
   "cell_type": "code",
   "execution_count": 7,
   "metadata": {},
   "outputs": [
    {
     "data": {
      "text/plain": [
       "array([[-8,  6],\n",
       "       [ 5,  2],\n",
       "       [-5,  1]])"
      ]
     },
     "execution_count": 7,
     "metadata": {},
     "output_type": "execute_result"
    }
   ],
   "source": [
    "x @ y"
   ]
  },
  {
   "cell_type": "code",
   "execution_count": 8,
   "metadata": {},
   "outputs": [
    {
     "data": {
      "text/plain": [
       "array([[-8,  6],\n",
       "       [ 5,  2],\n",
       "       [-5,  1]])"
      ]
     },
     "execution_count": 8,
     "metadata": {},
     "output_type": "execute_result"
    }
   ],
   "source": [
    "np.dot(x, y)"
   ]
  },
  {
   "cell_type": "markdown",
   "metadata": {},
   "source": [
    "- 넘파이의 `np.inner`는 `i번째 행벡터와 j번째 행벡터 사이의 내적`을 성분으로 가지는 행렬을 계산함.\n",
    "- 수학에서 말하는 내적과는 다르므로 주의\n"
   ]
  }
 ],
 "metadata": {
  "kernelspec": {
   "display_name": "Python 3.9.7 ('da')",
   "language": "python",
   "name": "python3"
  },
  "language_info": {
   "codemirror_mode": {
    "name": "ipython",
    "version": 3
   },
   "file_extension": ".py",
   "mimetype": "text/x-python",
   "name": "python",
   "nbconvert_exporter": "python",
   "pygments_lexer": "ipython3",
   "version": "3.9.7"
  },
  "orig_nbformat": 4,
  "vscode": {
   "interpreter": {
    "hash": "04a8ea47db90eb98c0a3e50c121f0eb4c8939b74ce49bf99b707c7ec249a9133"
   }
  }
 },
 "nbformat": 4,
 "nbformat_minor": 2
}
