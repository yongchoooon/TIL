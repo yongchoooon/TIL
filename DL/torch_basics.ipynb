{
  "cells": [
    {
      "cell_type": "markdown",
      "metadata": {
        "id": "JRWB5aeKN5i-"
      },
      "source": [
        "# Pytorch basics for DL newbies\n",
        "> Numpy + AutoGrad\n",
        "\n",
        "- 원본 : [link](https://github.com/TEAMLAB-Lecture/deep-learning-101-for-busan/blob/main/ch1/torch_basics.ipynb)"
      ]
    },
    {
      "cell_type": "markdown",
      "metadata": {
        "id": "Bl4aBHhgN5jA"
      },
      "source": [
        "\n",
        "## numpy to tensor"
      ]
    },
    {
      "cell_type": "code",
      "execution_count": 2,
      "metadata": {
        "id": "n-yIqv1oN5jB"
      },
      "outputs": [
        {
          "name": "stdout",
          "output_type": "stream",
          "text": [
            "[[0 1 2 3 4]\n",
            " [5 6 7 8 9]]\n",
            "ndim : 2 shape : (2, 5)\n"
          ]
        }
      ],
      "source": [
        "import numpy as np\n",
        "n_array = np.arange(10).reshape(2,5)\n",
        "print(n_array)\n",
        "print(\"ndim :\", n_array.ndim, \"shape :\", n_array.shape)"
      ]
    },
    {
      "cell_type": "code",
      "execution_count": 3,
      "metadata": {
        "id": "2Mk4ZVPTN5jC"
      },
      "outputs": [
        {
          "name": "stdout",
          "output_type": "stream",
          "text": [
            "tensor([[0., 1., 2., 3., 4.],\n",
            "        [5., 6., 7., 8., 9.]])\n",
            "ndim : 2 shape : torch.Size([2, 5])\n"
          ]
        }
      ],
      "source": [
        "import torch\n",
        "t_array = torch.FloatTensor(n_array)\n",
        "print(t_array)\n",
        "print(\"ndim :\", t_array.ndim, \"shape :\", t_array.shape)"
      ]
    },
    {
      "cell_type": "code",
      "execution_count": 5,
      "metadata": {
        "id": "EChYHuaJN5jC"
      },
      "outputs": [
        {
          "name": "stdout",
          "output_type": "stream",
          "text": [
            "torch.Size([2, 5])\n",
            "2\n",
            "torch.Size([2, 5])\n"
          ]
        }
      ],
      "source": [
        "print(t_array.shape)\n",
        "print(t_array.ndim)\n",
        "print(t_array.size())\n"
      ]
    },
    {
      "cell_type": "markdown",
      "metadata": {
        "id": "SPor5Lh2N5jD"
      },
      "source": [
        "### Array to Tensor"
      ]
    },
    {
      "cell_type": "markdown",
      "metadata": {
        "id": "F8OyK45tN5jD"
      },
      "source": [
        "##### Data to tensor"
      ]
    },
    {
      "cell_type": "code",
      "execution_count": 6,
      "metadata": {
        "id": "CZO3U_q0N5jE"
      },
      "outputs": [
        {
          "data": {
            "text/plain": [
              "tensor([[ 3,  5],\n",
              "        [10,  5]])"
            ]
          },
          "execution_count": 6,
          "metadata": {},
          "output_type": "execute_result"
        }
      ],
      "source": [
        "data = [[3, 5],[10, 5]]\n",
        "x_data = torch.tensor(data)\n",
        "x_data"
      ]
    },
    {
      "cell_type": "markdown",
      "metadata": {
        "id": "FN23z4pBN5jE"
      },
      "source": [
        "##### ndArray to Tensor\n",
        "\n",
        "> 들여쓴 블록\n",
        "\n"
      ]
    },
    {
      "cell_type": "code",
      "execution_count": 7,
      "metadata": {
        "id": "fZlYQE8UN5jF"
      },
      "outputs": [
        {
          "data": {
            "text/plain": [
              "tensor([[ 3,  5],\n",
              "        [10,  5]])"
            ]
          },
          "execution_count": 7,
          "metadata": {},
          "output_type": "execute_result"
        }
      ],
      "source": [
        "nd_array_ex = np.array(data)\n",
        "tensor_array = torch.from_numpy(nd_array_ex)\n",
        "tensor_array"
      ]
    },
    {
      "cell_type": "markdown",
      "metadata": {
        "id": "q6dDd7Y_N5jF"
      },
      "source": [
        "### numpy like operations"
      ]
    },
    {
      "cell_type": "code",
      "execution_count": 12,
      "metadata": {
        "id": "xUFiCcy-N5jF"
      },
      "outputs": [
        {
          "data": {
            "text/plain": [
              "tensor([[ 3,  5, 20],\n",
              "        [10,  5, 50],\n",
              "        [ 1,  5, 10]])"
            ]
          },
          "execution_count": 12,
          "metadata": {},
          "output_type": "execute_result"
        }
      ],
      "source": [
        "data = [[3, 5, 20],[10, 5, 50], [1, 5, 10]]\n",
        "x_data = torch.tensor(data)\n",
        "x_data"
      ]
    },
    {
      "cell_type": "code",
      "execution_count": 13,
      "metadata": {
        "id": "_MIE_WChN5jG"
      },
      "outputs": [
        {
          "data": {
            "text/plain": [
              "tensor([[10,  5, 50],\n",
              "        [ 1,  5, 10]])"
            ]
          },
          "execution_count": 13,
          "metadata": {},
          "output_type": "execute_result"
        }
      ],
      "source": [
        "x_data[1:]"
      ]
    },
    {
      "cell_type": "code",
      "execution_count": 14,
      "metadata": {
        "id": "xSNKQBigN5jG"
      },
      "outputs": [
        {
          "data": {
            "text/plain": [
              "tensor([[ 5, 20],\n",
              "        [ 5, 50]])"
            ]
          },
          "execution_count": 14,
          "metadata": {},
          "output_type": "execute_result"
        }
      ],
      "source": [
        "x_data[:2, 1:]"
      ]
    },
    {
      "cell_type": "code",
      "execution_count": 15,
      "metadata": {
        "id": "hZp5ATcrN5jG"
      },
      "outputs": [
        {
          "data": {
            "text/plain": [
              "tensor([ 3,  5, 20, 10,  5, 50,  1,  5, 10])"
            ]
          },
          "execution_count": 15,
          "metadata": {},
          "output_type": "execute_result"
        }
      ],
      "source": [
        "x_data.flatten()"
      ]
    },
    {
      "cell_type": "code",
      "execution_count": 16,
      "metadata": {
        "id": "8SQL9E4bN5jH"
      },
      "outputs": [
        {
          "data": {
            "text/plain": [
              "tensor([[1, 1, 1],\n",
              "        [1, 1, 1],\n",
              "        [1, 1, 1]])"
            ]
          },
          "execution_count": 16,
          "metadata": {},
          "output_type": "execute_result"
        }
      ],
      "source": [
        "torch.ones_like(x_data)"
      ]
    },
    {
      "cell_type": "code",
      "execution_count": 17,
      "metadata": {
        "id": "Y0-19-MCN5jH"
      },
      "outputs": [
        {
          "data": {
            "text/plain": [
              "array([[ 3,  5, 20],\n",
              "       [10,  5, 50],\n",
              "       [ 1,  5, 10]])"
            ]
          },
          "execution_count": 17,
          "metadata": {},
          "output_type": "execute_result"
        }
      ],
      "source": [
        "x_data.numpy()"
      ]
    },
    {
      "cell_type": "code",
      "execution_count": 18,
      "metadata": {
        "id": "ehyPgwq9N5jH"
      },
      "outputs": [
        {
          "data": {
            "text/plain": [
              "torch.Size([3, 3])"
            ]
          },
          "execution_count": 18,
          "metadata": {},
          "output_type": "execute_result"
        }
      ],
      "source": [
        "x_data.shape"
      ]
    },
    {
      "cell_type": "code",
      "execution_count": 19,
      "metadata": {
        "id": "IPIgOMdSN5jH"
      },
      "outputs": [
        {
          "data": {
            "text/plain": [
              "torch.int64"
            ]
          },
          "execution_count": 19,
          "metadata": {},
          "output_type": "execute_result"
        }
      ],
      "source": [
        "x_data.dtype"
      ]
    },
    {
      "cell_type": "code",
      "execution_count": 20,
      "metadata": {
        "id": "ib8WvWNlN5jI"
      },
      "outputs": [
        {
          "data": {
            "text/plain": [
              "device(type='cpu')"
            ]
          },
          "execution_count": 20,
          "metadata": {},
          "output_type": "execute_result"
        }
      ],
      "source": [
        "x_data.device"
      ]
    },
    {
      "cell_type": "code",
      "execution_count": null,
      "metadata": {
        "id": "JBsc29RPN5jI"
      },
      "outputs": [],
      "source": [
        "if torch.cuda.is_available():\n",
        "    x_data_cuda = x_data.to('cuda')\n",
        "x_data_cuda.device"
      ]
    },
    {
      "cell_type": "markdown",
      "metadata": {
        "id": "0xiM_cprN5jJ"
      },
      "source": [
        "### Tensor handling"
      ]
    },
    {
      "cell_type": "code",
      "execution_count": 29,
      "metadata": {
        "id": "wjkgqGuFN5jJ"
      },
      "outputs": [
        {
          "data": {
            "text/plain": [
              "tensor([[[0.9972, 0.3039],\n",
              "         [0.8690, 0.8243],\n",
              "         [0.5010, 0.1183]],\n",
              "\n",
              "        [[0.6530, 0.7373],\n",
              "         [0.2573, 0.4854],\n",
              "         [0.1416, 0.2750]]])"
            ]
          },
          "execution_count": 29,
          "metadata": {},
          "output_type": "execute_result"
        }
      ],
      "source": [
        "tensor_ex = torch.rand(size=(2, 3, 2))\n",
        "tensor_ex"
      ]
    },
    {
      "cell_type": "code",
      "execution_count": 30,
      "metadata": {
        "id": "r3DJdCu8N5jJ"
      },
      "outputs": [
        {
          "data": {
            "text/plain": [
              "tensor([[0.9972, 0.3039, 0.8690, 0.8243, 0.5010, 0.1183],\n",
              "        [0.6530, 0.7373, 0.2573, 0.4854, 0.1416, 0.2750]])"
            ]
          },
          "execution_count": 30,
          "metadata": {},
          "output_type": "execute_result"
        }
      ],
      "source": [
        "tensor_ex.view([-1, 6])"
      ]
    },
    {
      "cell_type": "code",
      "execution_count": 31,
      "metadata": {
        "id": "oTocEenZN5jJ"
      },
      "outputs": [
        {
          "data": {
            "text/plain": [
              "tensor([[0.9972, 0.3039, 0.8690, 0.8243, 0.5010, 0.1183],\n",
              "        [0.6530, 0.7373, 0.2573, 0.4854, 0.1416, 0.2750]])"
            ]
          },
          "execution_count": 31,
          "metadata": {},
          "output_type": "execute_result"
        }
      ],
      "source": [
        "tensor_ex.reshape([-1,6])"
      ]
    },
    {
      "cell_type": "code",
      "execution_count": 32,
      "metadata": {
        "id": "4wBPOpKEN5jK"
      },
      "outputs": [
        {
          "data": {
            "text/plain": [
              "tensor([[1., 1.],\n",
              "        [1., 1.],\n",
              "        [1., 1.]])"
            ]
          },
          "execution_count": 32,
          "metadata": {},
          "output_type": "execute_result"
        }
      ],
      "source": [
        "a = torch.zeros(3, 2)\n",
        "b = a.view(2, 3)\n",
        "a.fill_(1)"
      ]
    },
    {
      "cell_type": "code",
      "execution_count": 33,
      "metadata": {
        "id": "qCHlyd2zN5jK"
      },
      "outputs": [
        {
          "data": {
            "text/plain": [
              "tensor([[1., 1.],\n",
              "        [1., 1.],\n",
              "        [1., 1.]])"
            ]
          },
          "execution_count": 33,
          "metadata": {},
          "output_type": "execute_result"
        }
      ],
      "source": [
        "a"
      ]
    },
    {
      "cell_type": "code",
      "execution_count": 34,
      "metadata": {
        "id": "Hqj0bZl-N5jK"
      },
      "outputs": [
        {
          "data": {
            "text/plain": [
              "tensor([[1., 1., 1.],\n",
              "        [1., 1., 1.]])"
            ]
          },
          "execution_count": 34,
          "metadata": {},
          "output_type": "execute_result"
        }
      ],
      "source": [
        "b"
      ]
    },
    {
      "cell_type": "code",
      "execution_count": 35,
      "metadata": {
        "id": "Kqox9_YgN5jL"
      },
      "outputs": [
        {
          "data": {
            "text/plain": [
              "tensor([[1., 1.],\n",
              "        [1., 1.],\n",
              "        [1., 1.]])"
            ]
          },
          "execution_count": 35,
          "metadata": {},
          "output_type": "execute_result"
        }
      ],
      "source": [
        "a = torch.zeros(3, 2)\n",
        "b = a.t().reshape(6)\n",
        "a.fill_(1)"
      ]
    },
    {
      "cell_type": "code",
      "execution_count": 36,
      "metadata": {
        "id": "wnO-K6RGN5jL"
      },
      "outputs": [
        {
          "data": {
            "text/plain": [
              "tensor([[1., 1.],\n",
              "        [1., 1.],\n",
              "        [1., 1.]])"
            ]
          },
          "execution_count": 36,
          "metadata": {},
          "output_type": "execute_result"
        }
      ],
      "source": [
        "a"
      ]
    },
    {
      "cell_type": "code",
      "execution_count": 37,
      "metadata": {
        "id": "DYBdLyZIN5jL"
      },
      "outputs": [
        {
          "data": {
            "text/plain": [
              "tensor([0., 0., 0., 0., 0., 0.])"
            ]
          },
          "execution_count": 37,
          "metadata": {},
          "output_type": "execute_result"
        }
      ],
      "source": [
        "b"
      ]
    },
    {
      "cell_type": "markdown",
      "metadata": {},
      "source": [
        "- `squeeze()` : size가 1인 차원 줄이기"
      ]
    },
    {
      "cell_type": "code",
      "execution_count": 50,
      "metadata": {
        "id": "jgWpOvajN5jM"
      },
      "outputs": [
        {
          "data": {
            "text/plain": [
              "tensor([[0.3887, 0.5740],\n",
              "        [0.2177, 0.4566]])"
            ]
          },
          "execution_count": 50,
          "metadata": {},
          "output_type": "execute_result"
        }
      ],
      "source": [
        "tensor_ex = torch.rand(size=(2, 1, 2))\n",
        "tensor_ex.squeeze()"
      ]
    },
    {
      "cell_type": "markdown",
      "metadata": {},
      "source": [
        "- `unsqueeze()` : n번째 차원 1로 채워서 차원 늘리기"
      ]
    },
    {
      "cell_type": "code",
      "execution_count": 52,
      "metadata": {
        "id": "buapxNy2N5jM"
      },
      "outputs": [
        {
          "data": {
            "text/plain": [
              "torch.Size([1, 2, 2])"
            ]
          },
          "execution_count": 52,
          "metadata": {},
          "output_type": "execute_result"
        }
      ],
      "source": [
        "tensor_ex = torch.rand(size=(2, 2))\n",
        "tensor_ex.unsqueeze(0).shape"
      ]
    },
    {
      "cell_type": "code",
      "execution_count": 53,
      "metadata": {
        "id": "8Cr3Sk1zN5jM"
      },
      "outputs": [
        {
          "data": {
            "text/plain": [
              "torch.Size([2, 1, 2])"
            ]
          },
          "execution_count": 53,
          "metadata": {},
          "output_type": "execute_result"
        }
      ],
      "source": [
        "tensor_ex.unsqueeze(1).shape"
      ]
    },
    {
      "cell_type": "code",
      "execution_count": 56,
      "metadata": {
        "id": "nytJgSjON5jM"
      },
      "outputs": [
        {
          "data": {
            "text/plain": [
              "torch.Size([2, 2, 1])"
            ]
          },
          "execution_count": 56,
          "metadata": {},
          "output_type": "execute_result"
        }
      ],
      "source": [
        "tensor_ex.unsqueeze(2).shape"
      ]
    },
    {
      "cell_type": "markdown",
      "metadata": {
        "id": "IM5lPMY1N5jN"
      },
      "source": [
        "## tensor operations"
      ]
    },
    {
      "cell_type": "code",
      "execution_count": 57,
      "metadata": {
        "id": "09Hj_soyN5jN"
      },
      "outputs": [
        {
          "data": {
            "text/plain": [
              "tensor([[ 0.,  2.,  4.,  6.,  8.],\n",
              "        [10., 12., 14., 16., 18.]])"
            ]
          },
          "execution_count": 57,
          "metadata": {},
          "output_type": "execute_result"
        }
      ],
      "source": [
        "n1 = np.arange(10).reshape(2,5)\n",
        "n2 = np.arange(10).reshape(5,2)\n",
        "t1 = torch.FloatTensor(n1)\n",
        "t2 = torch.FloatTensor(n2)\n",
        "\n",
        "t1 + t1"
      ]
    },
    {
      "cell_type": "code",
      "execution_count": 58,
      "metadata": {
        "id": "NX-UhzIvN5jN"
      },
      "outputs": [
        {
          "data": {
            "text/plain": [
              "tensor([[0., 0., 0., 0., 0.],\n",
              "        [0., 0., 0., 0., 0.]])"
            ]
          },
          "execution_count": 58,
          "metadata": {},
          "output_type": "execute_result"
        }
      ],
      "source": [
        "t1 - t1"
      ]
    },
    {
      "cell_type": "code",
      "execution_count": 59,
      "metadata": {
        "id": "5kPV0pZfN5jO"
      },
      "outputs": [
        {
          "data": {
            "text/plain": [
              "tensor([[10., 11., 12., 13., 14.],\n",
              "        [15., 16., 17., 18., 19.]])"
            ]
          },
          "execution_count": 59,
          "metadata": {},
          "output_type": "execute_result"
        }
      ],
      "source": [
        "t1 + 10"
      ]
    },
    {
      "cell_type": "code",
      "execution_count": 60,
      "metadata": {
        "id": "qHpWDX8_N5jO"
      },
      "outputs": [
        {
          "ename": "RuntimeError",
          "evalue": "The size of tensor a (5) must match the size of tensor b (2) at non-singleton dimension 1",
          "output_type": "error",
          "traceback": [
            "\u001b[0;31m---------------------------------------------------------------------------\u001b[0m",
            "\u001b[0;31mRuntimeError\u001b[0m                              Traceback (most recent call last)",
            "Cell \u001b[0;32mIn [60], line 1\u001b[0m\n\u001b[0;32m----> 1\u001b[0m t1 \u001b[39m+\u001b[39;49m t2\n",
            "\u001b[0;31mRuntimeError\u001b[0m: The size of tensor a (5) must match the size of tensor b (2) at non-singleton dimension 1"
          ]
        }
      ],
      "source": [
        "t1 + t2"
      ]
    },
    {
      "cell_type": "code",
      "execution_count": 61,
      "metadata": {
        "id": "JgJYMq2PN5jO"
      },
      "outputs": [
        {
          "data": {
            "text/plain": [
              "tensor([[0., 0., 0., 0., 0.],\n",
              "        [0., 0., 0., 0., 0.]])"
            ]
          },
          "execution_count": 61,
          "metadata": {},
          "output_type": "execute_result"
        }
      ],
      "source": [
        "t1 - t1"
      ]
    },
    {
      "cell_type": "code",
      "execution_count": 62,
      "metadata": {
        "id": "70Q6IT3JN5jP"
      },
      "outputs": [
        {
          "data": {
            "text/plain": [
              "tensor([[10., 11., 12., 13., 14.],\n",
              "        [15., 16., 17., 18., 19.]])"
            ]
          },
          "execution_count": 62,
          "metadata": {},
          "output_type": "execute_result"
        }
      ],
      "source": [
        "t1 + 10"
      ]
    },
    {
      "cell_type": "markdown",
      "metadata": {},
      "source": [
        "- `mm()`, `dot()`, `matmul()`은 조금씩 다름, `mm()`을 가장 많이 사용함"
      ]
    },
    {
      "cell_type": "code",
      "execution_count": 63,
      "metadata": {
        "id": "CFrG-8w6N5jP"
      },
      "outputs": [
        {
          "data": {
            "text/plain": [
              "tensor([[ 60.,  70.],\n",
              "        [160., 195.]])"
            ]
          },
          "execution_count": 63,
          "metadata": {},
          "output_type": "execute_result"
        }
      ],
      "source": [
        "n2 = np.arange(10).reshape(5,2)\n",
        "t2 = torch.FloatTensor(n2)\n",
        "\n",
        "t1.mm(t2)"
      ]
    },
    {
      "cell_type": "code",
      "execution_count": 64,
      "metadata": {
        "id": "P06idjd3N5jP"
      },
      "outputs": [
        {
          "ename": "RuntimeError",
          "evalue": "1D tensors expected, but got 2D and 2D tensors",
          "output_type": "error",
          "traceback": [
            "\u001b[0;31m---------------------------------------------------------------------------\u001b[0m",
            "\u001b[0;31mRuntimeError\u001b[0m                              Traceback (most recent call last)",
            "Cell \u001b[0;32mIn [64], line 1\u001b[0m\n\u001b[0;32m----> 1\u001b[0m t1\u001b[39m.\u001b[39;49mdot(t2)\n",
            "\u001b[0;31mRuntimeError\u001b[0m: 1D tensors expected, but got 2D and 2D tensors"
          ]
        }
      ],
      "source": [
        "t1.dot(t2)"
      ]
    },
    {
      "cell_type": "code",
      "execution_count": 65,
      "metadata": {
        "id": "kZpYjjvJN5jQ"
      },
      "outputs": [
        {
          "data": {
            "text/plain": [
              "tensor([[ 60.,  70.],\n",
              "        [160., 195.]])"
            ]
          },
          "execution_count": 65,
          "metadata": {},
          "output_type": "execute_result"
        }
      ],
      "source": [
        "t1.matmul(t2)"
      ]
    },
    {
      "cell_type": "code",
      "execution_count": 66,
      "metadata": {
        "id": "6bZhm6juN5jQ"
      },
      "outputs": [
        {
          "data": {
            "text/plain": [
              "tensor(4.0544)"
            ]
          },
          "execution_count": 66,
          "metadata": {},
          "output_type": "execute_result"
        }
      ],
      "source": [
        "a = torch.rand(10)\n",
        "b = torch.rand(10)\n",
        "a.dot(b)"
      ]
    },
    {
      "cell_type": "code",
      "execution_count": 67,
      "metadata": {
        "id": "9oA1C1glYUyV"
      },
      "outputs": [
        {
          "data": {
            "text/plain": [
              "tensor([0.9188, 0.9158, 0.3516, 0.5133, 0.8561, 0.7710, 0.2713, 0.8077, 0.8243,\n",
              "        0.2533])"
            ]
          },
          "execution_count": 67,
          "metadata": {},
          "output_type": "execute_result"
        }
      ],
      "source": [
        "a"
      ]
    },
    {
      "cell_type": "code",
      "execution_count": 68,
      "metadata": {
        "id": "YIIrzLfjN5jQ"
      },
      "outputs": [
        {
          "ename": "RuntimeError",
          "evalue": "self must be a matrix",
          "output_type": "error",
          "traceback": [
            "\u001b[0;31m---------------------------------------------------------------------------\u001b[0m",
            "\u001b[0;31mRuntimeError\u001b[0m                              Traceback (most recent call last)",
            "Cell \u001b[0;32mIn [68], line 3\u001b[0m\n\u001b[1;32m      1\u001b[0m a \u001b[39m=\u001b[39m torch\u001b[39m.\u001b[39mrand(\u001b[39m10\u001b[39m)\n\u001b[1;32m      2\u001b[0m b \u001b[39m=\u001b[39m torch\u001b[39m.\u001b[39mrand(\u001b[39m10\u001b[39m)\n\u001b[0;32m----> 3\u001b[0m a\u001b[39m.\u001b[39;49mmm(b)\n",
            "\u001b[0;31mRuntimeError\u001b[0m: self must be a matrix"
          ]
        }
      ],
      "source": [
        "a = torch.rand(10)\n",
        "b = torch.rand(10)\n",
        "a.mm(b)"
      ]
    },
    {
      "cell_type": "code",
      "execution_count": 69,
      "metadata": {
        "id": "D8SLjSOvN5jQ"
      },
      "outputs": [
        {
          "ename": "RuntimeError",
          "evalue": "1D tensors expected, but got 2D and 2D tensors",
          "output_type": "error",
          "traceback": [
            "\u001b[0;31m---------------------------------------------------------------------------\u001b[0m",
            "\u001b[0;31mRuntimeError\u001b[0m                              Traceback (most recent call last)",
            "Cell \u001b[0;32mIn [69], line 1\u001b[0m\n\u001b[0;32m----> 1\u001b[0m t1\u001b[39m.\u001b[39;49mdot(t2)\n",
            "\u001b[0;31mRuntimeError\u001b[0m: 1D tensors expected, but got 2D and 2D tensors"
          ]
        }
      ],
      "source": [
        "t1.dot(t2)"
      ]
    },
    {
      "cell_type": "code",
      "execution_count": 70,
      "metadata": {
        "id": "UUZxVe_sN5jQ"
      },
      "outputs": [
        {
          "data": {
            "text/plain": [
              "tensor([[ 60.,  70.],\n",
              "        [160., 195.]])"
            ]
          },
          "execution_count": 70,
          "metadata": {},
          "output_type": "execute_result"
        }
      ],
      "source": [
        "t1.matmul(t2)"
      ]
    },
    {
      "cell_type": "markdown",
      "metadata": {},
      "source": [
        "- `dot()`: 벡터간 계산 가능"
      ]
    },
    {
      "cell_type": "code",
      "execution_count": 72,
      "metadata": {
        "id": "DKOs_RNiN5jR"
      },
      "outputs": [
        {
          "data": {
            "text/plain": [
              "tensor(1.0552)"
            ]
          },
          "execution_count": 72,
          "metadata": {},
          "output_type": "execute_result"
        }
      ],
      "source": [
        "a = torch.rand(10)\n",
        "b = torch.rand(10)\n",
        "a.dot(b)"
      ]
    },
    {
      "cell_type": "markdown",
      "metadata": {},
      "source": [
        "- `mm()` : 매트릭스간 계산만 가능"
      ]
    },
    {
      "cell_type": "code",
      "execution_count": 73,
      "metadata": {
        "id": "L6utY-VfN5jR"
      },
      "outputs": [
        {
          "ename": "RuntimeError",
          "evalue": "self must be a matrix",
          "output_type": "error",
          "traceback": [
            "\u001b[0;31m---------------------------------------------------------------------------\u001b[0m",
            "\u001b[0;31mRuntimeError\u001b[0m                              Traceback (most recent call last)",
            "Cell \u001b[0;32mIn [73], line 3\u001b[0m\n\u001b[1;32m      1\u001b[0m a \u001b[39m=\u001b[39m torch\u001b[39m.\u001b[39mrand(\u001b[39m10\u001b[39m)\n\u001b[1;32m      2\u001b[0m b \u001b[39m=\u001b[39m torch\u001b[39m.\u001b[39mrand(\u001b[39m10\u001b[39m)\n\u001b[0;32m----> 3\u001b[0m a\u001b[39m.\u001b[39;49mmm(b)\n",
            "\u001b[0;31mRuntimeError\u001b[0m: self must be a matrix"
          ]
        }
      ],
      "source": [
        "a = torch.rand(10)\n",
        "b = torch.rand(10)\n",
        "a.mm(b)"
      ]
    },
    {
      "cell_type": "code",
      "execution_count": 74,
      "metadata": {
        "id": "XgWGNEfpN5jR"
      },
      "outputs": [
        {
          "ename": "RuntimeError",
          "evalue": "self must be a matrix",
          "output_type": "error",
          "traceback": [
            "\u001b[0;31m---------------------------------------------------------------------------\u001b[0m",
            "\u001b[0;31mRuntimeError\u001b[0m                              Traceback (most recent call last)",
            "Cell \u001b[0;32mIn [74], line 3\u001b[0m\n\u001b[1;32m      1\u001b[0m a \u001b[39m=\u001b[39m torch\u001b[39m.\u001b[39mrand(\u001b[39m5\u001b[39m,\u001b[39m2\u001b[39m, \u001b[39m3\u001b[39m)\n\u001b[1;32m      2\u001b[0m b \u001b[39m=\u001b[39m torch\u001b[39m.\u001b[39mrand(\u001b[39m5\u001b[39m)\n\u001b[0;32m----> 3\u001b[0m a\u001b[39m.\u001b[39;49mmm(b)\n",
            "\u001b[0;31mRuntimeError\u001b[0m: self must be a matrix"
          ]
        }
      ],
      "source": [
        "a = torch.rand(5,2, 3)\n",
        "b = torch.rand(5)\n",
        "a.mm(b)"
      ]
    },
    {
      "cell_type": "markdown",
      "metadata": {},
      "source": [
        "- `matmul()` : 매트릭스와 벡터간 계산 가능 (브로드캐스팅이 일어남)"
      ]
    },
    {
      "cell_type": "code",
      "execution_count": 75,
      "metadata": {
        "id": "JsEeoOZBN5jR"
      },
      "outputs": [
        {
          "data": {
            "text/plain": [
              "tensor([[0.7742, 1.3969],\n",
              "        [1.4558, 1.3227],\n",
              "        [1.0233, 1.2330],\n",
              "        [1.3569, 0.9567],\n",
              "        [1.4290, 0.8015]])"
            ]
          },
          "execution_count": 75,
          "metadata": {},
          "output_type": "execute_result"
        }
      ],
      "source": [
        "a = torch.rand(5, 2, 3)\n",
        "b = torch.rand(3)\n",
        "a.matmul(b)"
      ]
    },
    {
      "cell_type": "code",
      "execution_count": 82,
      "metadata": {
        "id": "JJaSEmQxN5jR"
      },
      "outputs": [
        {
          "data": {
            "text/plain": [
              "tensor([0.7742, 1.3969])"
            ]
          },
          "execution_count": 82,
          "metadata": {},
          "output_type": "execute_result"
        }
      ],
      "source": [
        "a[0].mm(torch.unsqueeze(b,1)).squeeze()"
      ]
    },
    {
      "cell_type": "code",
      "execution_count": 86,
      "metadata": {
        "id": "5ff9pT1PZUda"
      },
      "outputs": [
        {
          "data": {
            "text/plain": [
              "tensor([[1.4558],\n",
              "        [1.3227]])"
            ]
          },
          "execution_count": 86,
          "metadata": {},
          "output_type": "execute_result"
        }
      ],
      "source": [
        "a[1].mm(torch.unsqueeze(b,1))"
      ]
    },
    {
      "cell_type": "code",
      "execution_count": 87,
      "metadata": {
        "id": "f3dFn-G5ZVMO"
      },
      "outputs": [
        {
          "data": {
            "text/plain": [
              "tensor([[1.0233],\n",
              "        [1.2330]])"
            ]
          },
          "execution_count": 87,
          "metadata": {},
          "output_type": "execute_result"
        }
      ],
      "source": [
        "a[2].mm(torch.unsqueeze(b,1))\n"
      ]
    },
    {
      "cell_type": "code",
      "execution_count": 88,
      "metadata": {
        "id": "KhZINtbUZVwq"
      },
      "outputs": [
        {
          "data": {
            "text/plain": [
              "tensor([[1.3569],\n",
              "        [0.9567]])"
            ]
          },
          "execution_count": 88,
          "metadata": {},
          "output_type": "execute_result"
        }
      ],
      "source": [
        "a[3].mm(torch.unsqueeze(b,1))\n"
      ]
    },
    {
      "cell_type": "code",
      "execution_count": 89,
      "metadata": {
        "id": "SJaNjcHhZWaZ"
      },
      "outputs": [
        {
          "data": {
            "text/plain": [
              "tensor([[1.4290],\n",
              "        [0.8015]])"
            ]
          },
          "execution_count": 89,
          "metadata": {},
          "output_type": "execute_result"
        }
      ],
      "source": [
        "a[4].mm(torch.unsqueeze(b,1))\n"
      ]
    },
    {
      "cell_type": "markdown",
      "metadata": {
        "id": "ZDIzFoInN5jS"
      },
      "source": [
        "## tensor operations for ML/DL formula"
      ]
    },
    {
      "cell_type": "markdown",
      "metadata": {},
      "source": [
        "- `softmax()` : 합이 1이 되도록 정규화해줌"
      ]
    },
    {
      "cell_type": "code",
      "execution_count": 91,
      "metadata": {
        "id": "HPRys6VgN5jS"
      },
      "outputs": [
        {
          "data": {
            "text/plain": [
              "tensor([0.3458, 0.4224, 0.2318])"
            ]
          },
          "execution_count": 91,
          "metadata": {},
          "output_type": "execute_result"
        }
      ],
      "source": [
        "import torch\n",
        "import torch.nn.functional as F\n",
        "\n",
        "tensor = torch.FloatTensor([0.5, 0.7, 0.1])\n",
        "h_tensor = F.softmax(tensor, dim=0) \n",
        "h_tensor\n"
      ]
    },
    {
      "cell_type": "code",
      "execution_count": 95,
      "metadata": {
        "id": "cIMjivSAN5jS"
      },
      "outputs": [
        {
          "data": {
            "text/plain": [
              "tensor([1, 2, 2, 1, 1, 1, 1, 0, 3, 0])"
            ]
          },
          "execution_count": 95,
          "metadata": {},
          "output_type": "execute_result"
        }
      ],
      "source": [
        "y = torch.randint(5, (10,5))\n",
        "y_label = y.argmax(dim=1)\n",
        "\n",
        "y_label"
      ]
    },
    {
      "cell_type": "code",
      "execution_count": 96,
      "metadata": {},
      "outputs": [
        {
          "data": {
            "text/plain": [
              "tensor([[0, 3, 1, 2, 3],\n",
              "        [2, 0, 4, 4, 0],\n",
              "        [1, 0, 4, 0, 2],\n",
              "        [2, 3, 3, 2, 3],\n",
              "        [1, 4, 0, 2, 1],\n",
              "        [0, 3, 2, 0, 1],\n",
              "        [0, 4, 1, 3, 4],\n",
              "        [4, 4, 1, 3, 3],\n",
              "        [2, 1, 2, 3, 0],\n",
              "        [4, 3, 1, 4, 2]])"
            ]
          },
          "execution_count": 96,
          "metadata": {},
          "output_type": "execute_result"
        }
      ],
      "source": [
        "y"
      ]
    },
    {
      "cell_type": "code",
      "execution_count": 97,
      "metadata": {
        "id": "fuVy1MZMN5jT"
      },
      "outputs": [
        {
          "data": {
            "text/plain": [
              "tensor([[0, 1, 0, 0],\n",
              "        [0, 0, 1, 0],\n",
              "        [0, 0, 1, 0],\n",
              "        [0, 1, 0, 0],\n",
              "        [0, 1, 0, 0],\n",
              "        [0, 1, 0, 0],\n",
              "        [0, 1, 0, 0],\n",
              "        [1, 0, 0, 0],\n",
              "        [0, 0, 0, 1],\n",
              "        [1, 0, 0, 0]])"
            ]
          },
          "execution_count": 97,
          "metadata": {},
          "output_type": "execute_result"
        }
      ],
      "source": [
        "torch.nn.functional.one_hot(y_label)"
      ]
    },
    {
      "cell_type": "code",
      "execution_count": 99,
      "metadata": {
        "id": "UfVuJARjN5jT"
      },
      "outputs": [
        {
          "data": {
            "text/plain": [
              "[(1, 4), (1, 5), (2, 4), (2, 5), (3, 4), (3, 5)]"
            ]
          },
          "execution_count": 99,
          "metadata": {},
          "output_type": "execute_result"
        }
      ],
      "source": [
        "import itertools\n",
        "a = [1, 2, 3]\n",
        "b = [4, 5]\n",
        "list(itertools.product(a, b))"
      ]
    },
    {
      "cell_type": "code",
      "execution_count": 100,
      "metadata": {
        "id": "SMKwp-0cN5jT"
      },
      "outputs": [
        {
          "data": {
            "text/plain": [
              "tensor([[1, 4],\n",
              "        [1, 5],\n",
              "        [2, 4],\n",
              "        [2, 5],\n",
              "        [3, 4],\n",
              "        [3, 5]])"
            ]
          },
          "execution_count": 100,
          "metadata": {},
          "output_type": "execute_result"
        }
      ],
      "source": [
        "tensor_a = torch.tensor(a)\n",
        "tensor_b = torch.tensor(b)\n",
        "torch.cartesian_prod(tensor_a, tensor_b)"
      ]
    },
    {
      "cell_type": "markdown",
      "metadata": {
        "id": "l3h8-M-0N5jU"
      },
      "source": [
        "## torch autogard"
      ]
    },
    {
      "cell_type": "markdown",
      "metadata": {
        "id": "pTIUbRTnN5jU"
      },
      "source": [
        "$$\n",
        "y = w^2 \\\\ \n",
        "z = 10*y + 25 \\\\\n",
        "z = 10*w^2 + 25 \n",
        "$$"
      ]
    },
    {
      "cell_type": "code",
      "execution_count": null,
      "metadata": {
        "id": "cVSyqVYwN5jU"
      },
      "outputs": [],
      "source": [
        "w = torch.tensor(2.0, requires_grad=True)\n",
        "y = w**2\n",
        "z = 10*y + 50\n",
        "z.backward()\n",
        "w.grad"
      ]
    },
    {
      "cell_type": "code",
      "execution_count": null,
      "metadata": {
        "id": "EI94ln7WN5jU"
      },
      "outputs": [],
      "source": [
        "w.grad"
      ]
    },
    {
      "cell_type": "markdown",
      "metadata": {
        "id": "ZG3RgGwNN5jU"
      },
      "source": [
        "$$ Q = 3a^3 - b^2  $$"
      ]
    },
    {
      "cell_type": "code",
      "execution_count": 101,
      "metadata": {
        "id": "W5PUs3OkN5jV"
      },
      "outputs": [
        {
          "data": {
            "text/plain": [
              "tensor([36., 81.])"
            ]
          },
          "execution_count": 101,
          "metadata": {},
          "output_type": "execute_result"
        }
      ],
      "source": [
        "a = torch.tensor([2., 3.], requires_grad=True)\n",
        "b = torch.tensor([6., 4.], requires_grad=True)\n",
        "Q = 3*a**3 - b**2\n",
        "external_grad = torch.tensor([1., 1.])\n",
        "Q.backward(gradient=external_grad)\n",
        "\n",
        "a.grad"
      ]
    },
    {
      "cell_type": "code",
      "execution_count": 102,
      "metadata": {
        "id": "QsxIYY3ZN5jV"
      },
      "outputs": [
        {
          "data": {
            "text/plain": [
              "tensor([-12.,  -8.])"
            ]
          },
          "execution_count": 102,
          "metadata": {},
          "output_type": "execute_result"
        }
      ],
      "source": [
        "b.grad"
      ]
    },
    {
      "cell_type": "markdown",
      "metadata": {
        "id": "FVGgC9dKN5jV"
      },
      "source": [
        "$$ \\frac{\\partial Q}{\\partial a} = 9a^2 $$  \n",
        "\n",
        "$$ \\frac{\\partial Q}{\\partial b} = -2b $$"
      ]
    },
    {
      "cell_type": "code",
      "execution_count": 103,
      "metadata": {
        "id": "2hT1rR8pN5jV"
      },
      "outputs": [
        {
          "data": {
            "text/plain": [
              "tensor([36., 81.])"
            ]
          },
          "execution_count": 103,
          "metadata": {},
          "output_type": "execute_result"
        }
      ],
      "source": [
        "a.grad"
      ]
    },
    {
      "cell_type": "code",
      "execution_count": 104,
      "metadata": {
        "id": "KHj8pAalN5jV"
      },
      "outputs": [
        {
          "data": {
            "text/plain": [
              "tensor([-12.,  -8.])"
            ]
          },
          "execution_count": 104,
          "metadata": {},
          "output_type": "execute_result"
        }
      ],
      "source": [
        "b.grad"
      ]
    }
  ],
  "metadata": {
    "accelerator": "GPU",
    "colab": {
      "name": "torch_basics.ipynb",
      "provenance": []
    },
    "kernelspec": {
      "display_name": "Python 3.9.15 ('da')",
      "language": "python",
      "name": "python3"
    },
    "language_info": {
      "codemirror_mode": {
        "name": "ipython",
        "version": 3
      },
      "file_extension": ".py",
      "mimetype": "text/x-python",
      "name": "python",
      "nbconvert_exporter": "python",
      "pygments_lexer": "ipython3",
      "version": "3.9.15"
    },
    "vscode": {
      "interpreter": {
        "hash": "4e2a8d64e7ffb59922116bf2b76f6cd1dc2829a8c191a52212b13727f5f36342"
      }
    }
  },
  "nbformat": 4,
  "nbformat_minor": 0
}
