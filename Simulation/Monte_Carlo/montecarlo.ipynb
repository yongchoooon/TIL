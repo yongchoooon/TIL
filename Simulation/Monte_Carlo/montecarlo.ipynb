{
 "cells": [
  {
   "cell_type": "code",
   "execution_count": 107,
   "metadata": {},
   "outputs": [],
   "source": [
    "import numpy as np\n",
    "import pandas as pd\n",
    "import matplotlib.pyplot as plt\n",
    "import seaborn as sns\n",
    "import math\n",
    "from math import e\n",
    "import random\n",
    "from collections import Counter"
   ]
  },
  {
   "cell_type": "markdown",
   "metadata": {},
   "source": [
    "# Monte Carlo Simulation\n",
    "> $f(x) = arcsch(x) + \\frac{1}{2}\\sin^2x + \\frac{1}{x^2}$\n",
    "\n",
    "> $arcsch(x) = \\ln(\\frac{1}{x} + \\sqrt{{1 \\over x^2} + 1})$"
   ]
  },
  {
   "cell_type": "markdown",
   "metadata": {},
   "source": [
    "- $arcsch(x)$\n",
    "\n",
    "<img src=\"./Graph.PNG\" width=\"400\" height=\"400\">\n",
    "\n",
    "- **$f(x) = arcsch(x) + \\frac{1}{2}\\sin^2x + \\frac{1}{x^2}$**\n",
    "\n",
    "<img src=\"./Graph2.PNG\" width=\"400\" height=\"400\">\n",
    "\n",
    "- 위 그래프에서 아래 구간의 함수의 면적을 구한다.\n",
    "  - x : (0, 4)\n",
    "  - y : (0, 4)"
   ]
  },
  {
   "cell_type": "markdown",
   "metadata": {},
   "source": [
    "### x와 y가 0~4인 난수 100,000개 생성"
   ]
  },
  {
   "cell_type": "code",
   "execution_count": 159,
   "metadata": {},
   "outputs": [
    {
     "data": {
      "text/html": [
       "<div>\n",
       "<style scoped>\n",
       "    .dataframe tbody tr th:only-of-type {\n",
       "        vertical-align: middle;\n",
       "    }\n",
       "\n",
       "    .dataframe tbody tr th {\n",
       "        vertical-align: top;\n",
       "    }\n",
       "\n",
       "    .dataframe thead th {\n",
       "        text-align: right;\n",
       "    }\n",
       "</style>\n",
       "<table border=\"1\" class=\"dataframe\">\n",
       "  <thead>\n",
       "    <tr style=\"text-align: right;\">\n",
       "      <th></th>\n",
       "      <th>X</th>\n",
       "      <th>y</th>\n",
       "    </tr>\n",
       "  </thead>\n",
       "  <tbody>\n",
       "    <tr>\n",
       "      <th>0</th>\n",
       "      <td>1.624989</td>\n",
       "      <td>1.669159</td>\n",
       "    </tr>\n",
       "    <tr>\n",
       "      <th>1</th>\n",
       "      <td>1.736446</td>\n",
       "      <td>0.116044</td>\n",
       "    </tr>\n",
       "    <tr>\n",
       "      <th>2</th>\n",
       "      <td>1.400634</td>\n",
       "      <td>1.595280</td>\n",
       "    </tr>\n",
       "    <tr>\n",
       "      <th>3</th>\n",
       "      <td>3.742808</td>\n",
       "      <td>2.008224</td>\n",
       "    </tr>\n",
       "    <tr>\n",
       "      <th>4</th>\n",
       "      <td>1.811109</td>\n",
       "      <td>3.821736</td>\n",
       "    </tr>\n",
       "    <tr>\n",
       "      <th>...</th>\n",
       "      <td>...</td>\n",
       "      <td>...</td>\n",
       "    </tr>\n",
       "    <tr>\n",
       "      <th>99995</th>\n",
       "      <td>0.342088</td>\n",
       "      <td>0.800305</td>\n",
       "    </tr>\n",
       "    <tr>\n",
       "      <th>99996</th>\n",
       "      <td>3.158384</td>\n",
       "      <td>2.519003</td>\n",
       "    </tr>\n",
       "    <tr>\n",
       "      <th>99997</th>\n",
       "      <td>0.657114</td>\n",
       "      <td>1.539899</td>\n",
       "    </tr>\n",
       "    <tr>\n",
       "      <th>99998</th>\n",
       "      <td>3.469179</td>\n",
       "      <td>3.534166</td>\n",
       "    </tr>\n",
       "    <tr>\n",
       "      <th>99999</th>\n",
       "      <td>0.489931</td>\n",
       "      <td>2.255624</td>\n",
       "    </tr>\n",
       "  </tbody>\n",
       "</table>\n",
       "<p>100000 rows × 2 columns</p>\n",
       "</div>"
      ],
      "text/plain": [
       "              X         y\n",
       "0      1.624989  1.669159\n",
       "1      1.736446  0.116044\n",
       "2      1.400634  1.595280\n",
       "3      3.742808  2.008224\n",
       "4      1.811109  3.821736\n",
       "...         ...       ...\n",
       "99995  0.342088  0.800305\n",
       "99996  3.158384  2.519003\n",
       "99997  0.657114  1.539899\n",
       "99998  3.469179  3.534166\n",
       "99999  0.489931  2.255624\n",
       "\n",
       "[100000 rows x 2 columns]"
      ]
     },
     "execution_count": 159,
     "metadata": {},
     "output_type": "execute_result"
    }
   ],
   "source": [
    "df = pd.DataFrame(np.random.rand(100000, 2)*4, columns=['X', 'y'])\n",
    "df"
   ]
  },
  {
   "cell_type": "markdown",
   "metadata": {},
   "source": [
    "### 함수 구현 - f(x)"
   ]
  },
  {
   "cell_type": "code",
   "execution_count": 160,
   "metadata": {},
   "outputs": [],
   "source": [
    "def function_yd(x):\n",
    "  arcsch = np.log(1/x + (1/x**2 + 1)**0.5)\n",
    "  half_sin_squared = 0.5 * (math.sin(x)**2)\n",
    "  frac = 1/x**2\n",
    "  return arcsch + half_sin_squared + frac"
   ]
  },
  {
   "cell_type": "code",
   "execution_count": 161,
   "metadata": {},
   "outputs": [
    {
     "data": {
      "text/html": [
       "<div>\n",
       "<style scoped>\n",
       "    .dataframe tbody tr th:only-of-type {\n",
       "        vertical-align: middle;\n",
       "    }\n",
       "\n",
       "    .dataframe tbody tr th {\n",
       "        vertical-align: top;\n",
       "    }\n",
       "\n",
       "    .dataframe thead th {\n",
       "        text-align: right;\n",
       "    }\n",
       "</style>\n",
       "<table border=\"1\" class=\"dataframe\">\n",
       "  <thead>\n",
       "    <tr style=\"text-align: right;\">\n",
       "      <th></th>\n",
       "      <th>X</th>\n",
       "      <th>y</th>\n",
       "      <th>fx</th>\n",
       "    </tr>\n",
       "  </thead>\n",
       "  <tbody>\n",
       "    <tr>\n",
       "      <th>0</th>\n",
       "      <td>1.624989</td>\n",
       "      <td>1.669159</td>\n",
       "      <td>1.459212</td>\n",
       "    </tr>\n",
       "    <tr>\n",
       "      <th>1</th>\n",
       "      <td>1.736446</td>\n",
       "      <td>0.116044</td>\n",
       "      <td>1.366093</td>\n",
       "    </tr>\n",
       "    <tr>\n",
       "      <th>2</th>\n",
       "      <td>1.400634</td>\n",
       "      <td>1.595280</td>\n",
       "      <td>1.659472</td>\n",
       "    </tr>\n",
       "    <tr>\n",
       "      <th>3</th>\n",
       "      <td>3.742808</td>\n",
       "      <td>2.008224</td>\n",
       "      <td>0.495460</td>\n",
       "    </tr>\n",
       "    <tr>\n",
       "      <th>4</th>\n",
       "      <td>1.811109</td>\n",
       "      <td>3.821736</td>\n",
       "      <td>1.303905</td>\n",
       "    </tr>\n",
       "    <tr>\n",
       "      <th>...</th>\n",
       "      <td>...</td>\n",
       "      <td>...</td>\n",
       "      <td>...</td>\n",
       "    </tr>\n",
       "    <tr>\n",
       "      <th>99995</th>\n",
       "      <td>0.342088</td>\n",
       "      <td>0.800305</td>\n",
       "      <td>10.395398</td>\n",
       "    </tr>\n",
       "    <tr>\n",
       "      <th>99996</th>\n",
       "      <td>3.158384</td>\n",
       "      <td>2.519003</td>\n",
       "      <td>0.411941</td>\n",
       "    </tr>\n",
       "    <tr>\n",
       "      <th>99997</th>\n",
       "      <td>0.657114</td>\n",
       "      <td>1.539899</td>\n",
       "      <td>3.709255</td>\n",
       "    </tr>\n",
       "    <tr>\n",
       "      <th>99998</th>\n",
       "      <td>3.469179</td>\n",
       "      <td>3.534166</td>\n",
       "      <td>0.419257</td>\n",
       "    </tr>\n",
       "    <tr>\n",
       "      <th>99999</th>\n",
       "      <td>0.489931</td>\n",
       "      <td>2.255624</td>\n",
       "      <td>5.738692</td>\n",
       "    </tr>\n",
       "  </tbody>\n",
       "</table>\n",
       "<p>100000 rows × 3 columns</p>\n",
       "</div>"
      ],
      "text/plain": [
       "              X         y         fx\n",
       "0      1.624989  1.669159   1.459212\n",
       "1      1.736446  0.116044   1.366093\n",
       "2      1.400634  1.595280   1.659472\n",
       "3      3.742808  2.008224   0.495460\n",
       "4      1.811109  3.821736   1.303905\n",
       "...         ...       ...        ...\n",
       "99995  0.342088  0.800305  10.395398\n",
       "99996  3.158384  2.519003   0.411941\n",
       "99997  0.657114  1.539899   3.709255\n",
       "99998  3.469179  3.534166   0.419257\n",
       "99999  0.489931  2.255624   5.738692\n",
       "\n",
       "[100000 rows x 3 columns]"
      ]
     },
     "execution_count": 161,
     "metadata": {},
     "output_type": "execute_result"
    }
   ],
   "source": [
    "df['fx'] = df['X'].map(function_yd)\n",
    "df"
   ]
  },
  {
   "cell_type": "markdown",
   "metadata": {},
   "source": [
    "### 난수 y가 f(x)보다 작거나 같으면 skyblue, 크면 pink를 리턴하는 함수\n",
    "- (f(x) - y) 값이 양수면 skyblue, 음수면 pink를 리턴하는 방식"
   ]
  },
  {
   "cell_type": "code",
   "execution_count": 162,
   "metadata": {},
   "outputs": [],
   "source": [
    "def color(value):\n",
    "  if (value >= 0):\n",
    "    return 'skyblue'\n",
    "  else:\n",
    "    return 'pink'"
   ]
  },
  {
   "cell_type": "code",
   "execution_count": 163,
   "metadata": {},
   "outputs": [
    {
     "data": {
      "text/html": [
       "<div>\n",
       "<style scoped>\n",
       "    .dataframe tbody tr th:only-of-type {\n",
       "        vertical-align: middle;\n",
       "    }\n",
       "\n",
       "    .dataframe tbody tr th {\n",
       "        vertical-align: top;\n",
       "    }\n",
       "\n",
       "    .dataframe thead th {\n",
       "        text-align: right;\n",
       "    }\n",
       "</style>\n",
       "<table border=\"1\" class=\"dataframe\">\n",
       "  <thead>\n",
       "    <tr style=\"text-align: right;\">\n",
       "      <th></th>\n",
       "      <th>X</th>\n",
       "      <th>y</th>\n",
       "      <th>fx</th>\n",
       "      <th>color</th>\n",
       "    </tr>\n",
       "  </thead>\n",
       "  <tbody>\n",
       "    <tr>\n",
       "      <th>0</th>\n",
       "      <td>1.624989</td>\n",
       "      <td>1.669159</td>\n",
       "      <td>1.459212</td>\n",
       "      <td>pink</td>\n",
       "    </tr>\n",
       "    <tr>\n",
       "      <th>1</th>\n",
       "      <td>1.736446</td>\n",
       "      <td>0.116044</td>\n",
       "      <td>1.366093</td>\n",
       "      <td>skyblue</td>\n",
       "    </tr>\n",
       "    <tr>\n",
       "      <th>2</th>\n",
       "      <td>1.400634</td>\n",
       "      <td>1.595280</td>\n",
       "      <td>1.659472</td>\n",
       "      <td>skyblue</td>\n",
       "    </tr>\n",
       "    <tr>\n",
       "      <th>3</th>\n",
       "      <td>3.742808</td>\n",
       "      <td>2.008224</td>\n",
       "      <td>0.495460</td>\n",
       "      <td>pink</td>\n",
       "    </tr>\n",
       "    <tr>\n",
       "      <th>4</th>\n",
       "      <td>1.811109</td>\n",
       "      <td>3.821736</td>\n",
       "      <td>1.303905</td>\n",
       "      <td>pink</td>\n",
       "    </tr>\n",
       "    <tr>\n",
       "      <th>...</th>\n",
       "      <td>...</td>\n",
       "      <td>...</td>\n",
       "      <td>...</td>\n",
       "      <td>...</td>\n",
       "    </tr>\n",
       "    <tr>\n",
       "      <th>99995</th>\n",
       "      <td>0.342088</td>\n",
       "      <td>0.800305</td>\n",
       "      <td>10.395398</td>\n",
       "      <td>skyblue</td>\n",
       "    </tr>\n",
       "    <tr>\n",
       "      <th>99996</th>\n",
       "      <td>3.158384</td>\n",
       "      <td>2.519003</td>\n",
       "      <td>0.411941</td>\n",
       "      <td>pink</td>\n",
       "    </tr>\n",
       "    <tr>\n",
       "      <th>99997</th>\n",
       "      <td>0.657114</td>\n",
       "      <td>1.539899</td>\n",
       "      <td>3.709255</td>\n",
       "      <td>skyblue</td>\n",
       "    </tr>\n",
       "    <tr>\n",
       "      <th>99998</th>\n",
       "      <td>3.469179</td>\n",
       "      <td>3.534166</td>\n",
       "      <td>0.419257</td>\n",
       "      <td>pink</td>\n",
       "    </tr>\n",
       "    <tr>\n",
       "      <th>99999</th>\n",
       "      <td>0.489931</td>\n",
       "      <td>2.255624</td>\n",
       "      <td>5.738692</td>\n",
       "      <td>skyblue</td>\n",
       "    </tr>\n",
       "  </tbody>\n",
       "</table>\n",
       "<p>100000 rows × 4 columns</p>\n",
       "</div>"
      ],
      "text/plain": [
       "              X         y         fx    color\n",
       "0      1.624989  1.669159   1.459212     pink\n",
       "1      1.736446  0.116044   1.366093  skyblue\n",
       "2      1.400634  1.595280   1.659472  skyblue\n",
       "3      3.742808  2.008224   0.495460     pink\n",
       "4      1.811109  3.821736   1.303905     pink\n",
       "...         ...       ...        ...      ...\n",
       "99995  0.342088  0.800305  10.395398  skyblue\n",
       "99996  3.158384  2.519003   0.411941     pink\n",
       "99997  0.657114  1.539899   3.709255  skyblue\n",
       "99998  3.469179  3.534166   0.419257     pink\n",
       "99999  0.489931  2.255624   5.738692  skyblue\n",
       "\n",
       "[100000 rows x 4 columns]"
      ]
     },
     "execution_count": 163,
     "metadata": {},
     "output_type": "execute_result"
    }
   ],
   "source": [
    "df['color'] = df['fx'] - df['y']\n",
    "df['color'] = df['color'].map(color)\n",
    "df"
   ]
  },
  {
   "cell_type": "markdown",
   "metadata": {},
   "source": [
    "### 함수보다 큰 점(pink)의 수와 작은 점(skyblue)의 갯수"
   ]
  },
  {
   "cell_type": "code",
   "execution_count": 164,
   "metadata": {},
   "outputs": [
    {
     "name": "stdout",
     "output_type": "stream",
     "text": [
      "함수보다 큰 점(pink) : 59916\n",
      "함수보다 작은 점(skyblue) : 40084\n"
     ]
    }
   ],
   "source": [
    "print('함수보다 큰 점(pink) : ' + str(Counter(df['color'])['pink']))\n",
    "print('함수보다 작은 점(skyblue) : ' + str(Counter(df['color'])['skyblue']))"
   ]
  },
  {
   "cell_type": "markdown",
   "metadata": {},
   "source": [
    "### 시각화"
   ]
  },
  {
   "cell_type": "code",
   "execution_count": 167,
   "metadata": {},
   "outputs": [
    {
     "data": {
      "text/plain": [
       "(0.0, 4.0)"
      ]
     },
     "execution_count": 167,
     "metadata": {},
     "output_type": "execute_result"
    },
    {
     "data": {
      "image/png": "[encoded data removed]",
      "text/plain": [
       "<Figure size 720x720 with 1 Axes>"
      ]
     },
     "metadata": {
      "needs_background": "light"
     },
     "output_type": "display_data"
    }
   ],
   "source": [
    "# 시각화를 위해 정렬\n",
    "df = df.sort_values(by = ['X'])\n",
    "\n",
    "plt.figure(figsize=(10, 10))\n",
    "\n",
    "plt.plot(df['X'], df['fx'], color = 'black')\n",
    "plt.scatter(df['X'], df['y'], c = df['color'])\n",
    "\n",
    "plt.xlim(0, 4)\n",
    "plt.ylim(0, 4)"
   ]
  }
 ],
 "metadata": {
  "kernelspec": {
   "display_name": "Python 3.9.12 ('da')",
   "language": "python",
   "name": "python3"
  },
  "language_info": {
   "codemirror_mode": {
    "name": "ipython",
    "version": 3
   },
   "file_extension": ".py",
   "mimetype": "text/x-python",
   "name": "python",
   "nbconvert_exporter": "python",
   "pygments_lexer": "ipython3",
   "version": "3.9.12"
  },
  "orig_nbformat": 4,
  "vscode": {
   "interpreter": {
    "hash": "cc559ded4c07dd5d7e91d31f6492afc13b9aee8598d231e373ec0f74b4653a08"
   }
  }
 },
 "nbformat": 4,
 "nbformat_minor": 2
}
